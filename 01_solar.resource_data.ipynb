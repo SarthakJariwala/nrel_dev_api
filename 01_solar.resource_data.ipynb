{
 "cells": [
  {
   "cell_type": "code",
   "execution_count": null,
   "metadata": {},
   "outputs": [],
   "source": [
    "# default_exp solar.resource_data"
   ]
  },
  {
   "cell_type": "code",
   "execution_count": null,
   "metadata": {},
   "outputs": [],
   "source": [
    "#hide\n",
    "%load_ext autoreload\n",
    "%autoreload 2"
   ]
  },
  {
   "cell_type": "code",
   "execution_count": null,
   "metadata": {},
   "outputs": [],
   "source": [
    "#hide\n",
    "from nbdev.showdoc import *"
   ]
  },
  {
   "cell_type": "markdown",
   "metadata": {},
   "source": [
    "# Solar Resource Data\n",
    "\n",
    "> Get average Direct Normal Irradiance (avg_dni), average Global Horizontal Irradiance (avg_ghi), and average Tilt (avg_lat_tilt) for a location."
   ]
  },
  {
   "cell_type": "code",
   "execution_count": null,
   "metadata": {},
   "outputs": [],
   "source": [
    "#export\n",
    "from nrel_dev_api._core import get_request\n",
    "\n",
    "# TODO - add attributes in docstring, add checks for data inputs\n",
    "class SolarResourceData:\n",
    "    \"\"\"Returns various types of solar data for a location as a dictionary. \n",
    "    The service from NREL currently returns data for \n",
    "    average Direct Normal Irradiance, average Global Horizontal Irradiance, \n",
    "    and average Tilt at Latitude.\n",
    "    \"\"\"\n",
    "    \n",
    "    QUERY_URL = \"/api/solar/solar_resource/v1.json\"\n",
    "    \n",
    "    def __init__(self, api_key, lat=None, lon=None, address=None):\n",
    "        \n",
    "        self._params = {\"api_key\": api_key}\n",
    "        \n",
    "        # if address is not specified latitude and longitude must be specified\n",
    "        if not address:\n",
    "            self._params.update({\"lat\" : lat, \"lon\" : lon})\n",
    "        else:\n",
    "            self._params.update({\"address\": address})\n",
    "            \n",
    "        # complete raw response as a dict\n",
    "        r = get_request(self.QUERY_URL, self._params)\n",
    "        \n",
    "        # complete response as a dict\n",
    "        self.response = r.json()\n",
    "        \n",
    "        # only the outputs\n",
    "        self.outputs = self.response[\"outputs\"]\n",
    "        \n",
    "        # get the inputs provided\n",
    "        self.inputs = self.response[\"inputs\"]"
   ]
  },
  {
   "cell_type": "markdown",
   "metadata": {},
   "source": [
    "An example to get solar resource data - average Direct Normal Irradiance, average Global Horizontal Irradiance, and average tilt - from NREL"
   ]
  },
  {
   "cell_type": "code",
   "execution_count": null,
   "metadata": {},
   "outputs": [],
   "source": [
    "#hide\n",
    "NREL_API_KEY = \"DEMO_KEY\""
   ]
  },
  {
   "cell_type": "code",
   "execution_count": null,
   "metadata": {},
   "outputs": [],
   "source": [
    "solar_resource_data = SolarResourceData(api_key=NREL_API_KEY, lat=40, lon=-105)"
   ]
  },
  {
   "cell_type": "markdown",
   "metadata": {},
   "source": [
    "Outputs for solar resource data"
   ]
  },
  {
   "cell_type": "code",
   "execution_count": null,
   "metadata": {},
   "outputs": [
    {
     "data": {
      "text/plain": [
       "{'avg_dni': {'annual': 6.06,\n",
       "  'monthly': {'jan': 5.0,\n",
       "   'feb': 5.34,\n",
       "   'mar': 5.94,\n",
       "   'apr': 6.11,\n",
       "   'may': 6.36,\n",
       "   'jun': 7.43,\n",
       "   'jul': 7.48,\n",
       "   'aug': 6.65,\n",
       "   'sep': 6.81,\n",
       "   'oct': 5.82,\n",
       "   'nov': 5.11,\n",
       "   'dec': 4.67}},\n",
       " 'avg_ghi': {'annual': 4.81,\n",
       "  'monthly': {'jan': 2.5,\n",
       "   'feb': 3.43,\n",
       "   'mar': 4.69,\n",
       "   'apr': 5.69,\n",
       "   'may': 6.6,\n",
       "   'jun': 7.25,\n",
       "   'jul': 7.14,\n",
       "   'aug': 6.24,\n",
       "   'sep': 5.35,\n",
       "   'oct': 3.85,\n",
       "   'nov': 2.75,\n",
       "   'dec': 2.19}},\n",
       " 'avg_lat_tilt': {'annual': 5.82,\n",
       "  'monthly': {'jan': 4.79,\n",
       "   'feb': 5.4,\n",
       "   'mar': 6.07,\n",
       "   'apr': 6.11,\n",
       "   'may': 6.25,\n",
       "   'jun': 6.47,\n",
       "   'jul': 6.58,\n",
       "   'aug': 6.44,\n",
       "   'sep': 6.53,\n",
       "   'oct': 5.71,\n",
       "   'nov': 4.99,\n",
       "   'dec': 4.47}}}"
      ]
     },
     "execution_count": null,
     "metadata": {},
     "output_type": "execute_result"
    }
   ],
   "source": [
    "#hide_output\n",
    "solar_resource_data.outputs"
   ]
  },
  {
   "cell_type": "markdown",
   "metadata": {},
   "source": [
    "Use address to access the solar resource data"
   ]
  },
  {
   "cell_type": "code",
   "execution_count": null,
   "metadata": {},
   "outputs": [],
   "source": [
    "address = \"Seattle, WA\"\n",
    "\n",
    "solar_resource_data = SolarResourceData(api_key=NREL_API_KEY, address=address)"
   ]
  },
  {
   "cell_type": "markdown",
   "metadata": {},
   "source": [
    "Get the complete response as a dictionary"
   ]
  },
  {
   "cell_type": "code",
   "execution_count": null,
   "metadata": {},
   "outputs": [
    {
     "data": {
      "text/plain": [
       "{'version': '1.0.0',\n",
       " 'warnings': [],\n",
       " 'errors': [],\n",
       " 'metadata': {'sources': ['Perez-SUNY/NREL, 2012']},\n",
       " 'inputs': {'address': 'Seattle, WA'},\n",
       " 'outputs': {'avg_dni': {'annual': 3.5,\n",
       "   'monthly': {'jan': 1.19,\n",
       "    'feb': 2.73,\n",
       "    'mar': 2.16,\n",
       "    'apr': 3.76,\n",
       "    'may': 4.21,\n",
       "    'jun': 5.14,\n",
       "    'jul': 6.66,\n",
       "    'aug': 5.97,\n",
       "    'sep': 5.12,\n",
       "    'oct': 2.51,\n",
       "    'nov': 1.34,\n",
       "    'dec': 1.21}},\n",
       "  'avg_ghi': {'annual': 3.46,\n",
       "   'monthly': {'jan': 0.98,\n",
       "    'feb': 1.94,\n",
       "    'mar': 2.75,\n",
       "    'apr': 4.51,\n",
       "    'may': 5.34,\n",
       "    'jun': 5.99,\n",
       "    'jul': 6.38,\n",
       "    'aug': 5.48,\n",
       "    'sep': 4.03,\n",
       "    'oct': 2.11,\n",
       "    'nov': 1.12,\n",
       "    'dec': 0.84}},\n",
       "  'avg_lat_tilt': {'annual': 3.98,\n",
       "   'monthly': {'jan': 1.73,\n",
       "    'feb': 3.25,\n",
       "    'mar': 3.43,\n",
       "    'apr': 4.95,\n",
       "    'may': 5.13,\n",
       "    'jun': 5.43,\n",
       "    'jul': 5.98,\n",
       "    'aug': 5.87,\n",
       "    'sep': 5.23,\n",
       "    'oct': 3.18,\n",
       "    'nov': 1.91,\n",
       "    'dec': 1.65}}}}"
      ]
     },
     "execution_count": null,
     "metadata": {},
     "output_type": "execute_result"
    }
   ],
   "source": [
    "#hide_output\n",
    "solar_resource_data.response"
   ]
  },
  {
   "cell_type": "code",
   "execution_count": null,
   "metadata": {},
   "outputs": [],
   "source": []
  }
 ],
 "metadata": {
  "kernelspec": {
   "display_name": "Python [conda env:nrel-dev-api]",
   "language": "python",
   "name": "conda-env-nrel-dev-api-py"
  }
 },
 "nbformat": 4,
 "nbformat_minor": 4
}
