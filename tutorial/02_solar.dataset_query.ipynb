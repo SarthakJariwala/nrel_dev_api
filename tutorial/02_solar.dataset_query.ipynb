{
 "cells": [
  {
   "cell_type": "code",
   "execution_count": 4,
   "metadata": {},
   "outputs": [],
   "source": [
    "# default_exp solar.dataset_query"
   ]
  },
  {
   "cell_type": "code",
   "execution_count": 5,
   "metadata": {},
   "outputs": [
    {
     "name": "stdout",
     "output_type": "stream",
     "text": [
      "The autoreload extension is already loaded. To reload it, use:\n",
      "  %reload_ext autoreload\n"
     ]
    }
   ],
   "source": [
    "#hide\n",
    "%load_ext autoreload\n",
    "%autoreload 2"
   ]
  },
  {
   "cell_type": "code",
   "execution_count": 6,
   "metadata": {},
   "outputs": [],
   "source": [
    "#hide\n",
    "from nbdev.showdoc import *"
   ]
  },
  {
   "cell_type": "markdown",
   "metadata": {},
   "source": [
    "# Solar Dataset Query\n",
    "\n",
    "> Get information on the closest climate data for a given location"
   ]
  },
  {
   "cell_type": "code",
   "execution_count": 10,
   "metadata": {},
   "outputs": [],
   "source": [
    "#export\n",
    "from nrel_dev_api._core import get_request, check_api_key\n",
    "\n",
    "# TODO - add attributes in docstring, add checks for data inputs\n",
    "class SolarDatasetQuery:\n",
    "    \n",
    "    \"\"\"Returns information on the closest climate data for a location.\n",
    "    \"\"\"\n",
    "    \n",
    "    QUERY_URL = \"/api/solar/data_query/v1.json\"\n",
    "    \n",
    "    def __init__(self,\n",
    "                 api_key=None,\n",
    "                 lat=None,\n",
    "                 lon=None,\n",
    "                 address=None,\n",
    "                 radius=100,\n",
    "                 return_all_stations=False,\n",
    "                ):\n",
    "        \n",
    "        if api_key is None:\n",
    "            # check if API key is already set\n",
    "            api_key = check_api_key()\n",
    "            \n",
    "        self._params = {\n",
    "            \"api_key\" : api_key,\n",
    "            \"radius\" : radius,\n",
    "            \"all\" : 0 if return_all_stations is False else 1,\n",
    "        }\n",
    "        \n",
    "        # if address is not specified latitude and longitude must be specified\n",
    "        if not address:\n",
    "            self._params.update({\"lat\" : lat, \"lon\" : lon})\n",
    "        else:\n",
    "            self._params.update({\"address\": address})\n",
    "        \n",
    "        # response\n",
    "        r = get_request(self.QUERY_URL, self._params)\n",
    "        \n",
    "        # response as a dict\n",
    "        self.response = r.json()\n",
    "        \n",
    "        # only outputs\n",
    "        self.outputs = self.response[\"outputs\"]\n",
    "        \n",
    "        # get the inputs provided\n",
    "        self.inputs = self.response[\"inputs\"]"
   ]
  },
  {
   "cell_type": "code",
   "execution_count": 8,
   "metadata": {},
   "outputs": [],
   "source": [
    "#hide\n",
    "NREL_API_KEY = \"DEMO_KEY\""
   ]
  },
  {
   "cell_type": "markdown",
   "metadata": {},
   "source": [
    "Let's set our NREL API key, first."
   ]
  },
  {
   "cell_type": "code",
   "execution_count": 12,
   "metadata": {},
   "outputs": [],
   "source": [
    "from nrel_dev_api import set_nrel_api_key\n",
    "\n",
    "set_nrel_api_key(NREL_API_KEY)"
   ]
  },
  {
   "cell_type": "markdown",
   "metadata": {},
   "source": [
    "Information on climate data for the location closest to the specified one. Here, we will search for Colorado."
   ]
  },
  {
   "cell_type": "code",
   "execution_count": 14,
   "metadata": {},
   "outputs": [],
   "source": [
    "#hide_output\n",
    "solar_dataset_query = SolarDatasetQuery(lat=40, lon=-105)"
   ]
  },
  {
   "cell_type": "markdown",
   "metadata": {},
   "source": [
    "Outputs for the solar dataset are available under the `outputs` attribute."
   ]
  },
  {
   "cell_type": "code",
   "execution_count": 15,
   "metadata": {},
   "outputs": [
    {
     "data": {
      "text/plain": [
       "{'tmy2': {'id': '0-94018',\n",
       "  'city': 'BOULDER',\n",
       "  'state': 'COLORADO',\n",
       "  'timezone': -7,\n",
       "  'lat': 40.13,\n",
       "  'lon': -105.24,\n",
       "  'elevation': 1689,\n",
       "  'distance': 24977},\n",
       " 'tmy3': {'id': '1-724699',\n",
       "  'city': 'BROOMFIELD/JEFFCO [BOULDER - SURFRAD]',\n",
       "  'state': 'COLORADO',\n",
       "  'timezone': -7,\n",
       "  'lat': 40.13,\n",
       "  'lon': -105.24,\n",
       "  'elevation': 1689,\n",
       "  'distance': 24977},\n",
       " 'intl': None,\n",
       " 'nsrdb': {'id': '3-W105N040-W10502N4001',\n",
       "  'city': '',\n",
       "  'state': 'Colorado',\n",
       "  'country': None,\n",
       "  'lat': 40.01,\n",
       "  'lon': -105.02,\n",
       "  'distance': 2029,\n",
       "  'timezone': -7,\n",
       "  'elevation': 1582,\n",
       "  'resolution': 4}}"
      ]
     },
     "execution_count": 15,
     "metadata": {},
     "output_type": "execute_result"
    }
   ],
   "source": [
    "solar_dataset_query.outputs"
   ]
  },
  {
   "cell_type": "markdown",
   "metadata": {},
   "source": [
    "We can also get information about all the stations within a specified radius around a location."
   ]
  },
  {
   "cell_type": "code",
   "execution_count": 16,
   "metadata": {},
   "outputs": [
    {
     "data": {
      "text/plain": [
       "{'tmy2': {'id': '0-94018',\n",
       "  'city': 'BOULDER',\n",
       "  'state': 'COLORADO',\n",
       "  'timezone': -7,\n",
       "  'lat': 40.13,\n",
       "  'lon': -105.24,\n",
       "  'elevation': 1689,\n",
       "  'distance': 24977},\n",
       " 'tmy3': {'id': '1-724699',\n",
       "  'city': 'BROOMFIELD/JEFFCO [BOULDER - SURFRAD]',\n",
       "  'state': 'COLORADO',\n",
       "  'timezone': -7,\n",
       "  'lat': 40.13,\n",
       "  'lon': -105.24,\n",
       "  'elevation': 1689,\n",
       "  'distance': 24977},\n",
       " 'intl': None,\n",
       " 'nsrdb': {'id': '3-W105N040-W10502N4001',\n",
       "  'city': '',\n",
       "  'state': 'Colorado',\n",
       "  'country': None,\n",
       "  'lat': 40.01,\n",
       "  'lon': -105.02,\n",
       "  'distance': 2029,\n",
       "  'timezone': -7,\n",
       "  'elevation': 1582,\n",
       "  'resolution': 4},\n",
       " 'all_stations': [{'id': '3-W105N040-W10502N4001',\n",
       "   'city': '',\n",
       "   'state': 'Colorado',\n",
       "   'country': None,\n",
       "   'lat': 40.01,\n",
       "   'lon': -105.02,\n",
       "   'distance': 2029,\n",
       "   'timezone': -7,\n",
       "   'elevation': 1582,\n",
       "   'resolution': 4,\n",
       "   'dataset': 'nsrdb'},\n",
       "  {'id': '0-94018',\n",
       "   'city': 'BOULDER',\n",
       "   'state': 'COLORADO',\n",
       "   'timezone': -7,\n",
       "   'lat': 40.13,\n",
       "   'lon': -105.24,\n",
       "   'elevation': 1689,\n",
       "   'distance': 24977,\n",
       "   'dataset': 'tmy2'},\n",
       "  {'id': '1-724699',\n",
       "   'city': 'BROOMFIELD/JEFFCO [BOULDER - SURFRAD]',\n",
       "   'state': 'COLORADO',\n",
       "   'timezone': -7,\n",
       "   'lat': 40.13,\n",
       "   'lon': -105.24,\n",
       "   'elevation': 1689,\n",
       "   'distance': 24977,\n",
       "   'dataset': 'tmy3'},\n",
       "  {'id': '1-724666',\n",
       "   'city': 'DENVER/CENTENNIAL [GOLDEN - NREL]',\n",
       "   'state': 'COLORADO',\n",
       "   'timezone': -7,\n",
       "   'lat': 39.742,\n",
       "   'lon': -105.179,\n",
       "   'elevation': 1829,\n",
       "   'distance': 32650,\n",
       "   'dataset': 'tmy3'},\n",
       "  {'id': '1-725650',\n",
       "   'city': 'DENVER INTL AP',\n",
       "   'state': 'COLORADO',\n",
       "   'timezone': -7,\n",
       "   'lat': 39.833,\n",
       "   'lon': -104.65,\n",
       "   'elevation': 1650,\n",
       "   'distance': 35063,\n",
       "   'dataset': 'tmy3'},\n",
       "  {'id': '1-724695',\n",
       "   'city': 'AURORA BUCKLEY FIELD ANGB',\n",
       "   'state': 'COLORADO',\n",
       "   'timezone': -7,\n",
       "   'lat': 39.717,\n",
       "   'lon': -104.75,\n",
       "   'elevation': 1726,\n",
       "   'distance': 38143,\n",
       "   'dataset': 'tmy3'},\n",
       "  {'id': '1-724769',\n",
       "   'city': 'FORT COLLINS (AWOS)',\n",
       "   'state': 'COLORADO',\n",
       "   'timezone': -7,\n",
       "   'lat': 40.45,\n",
       "   'lon': -105.017,\n",
       "   'elevation': 1529,\n",
       "   'distance': 50435,\n",
       "   'dataset': 'tmy3'},\n",
       "  {'id': '1-724768',\n",
       "   'city': 'GREELEY/WELD (AWOS)',\n",
       "   'state': 'COLORADO',\n",
       "   'timezone': -7,\n",
       "   'lat': 40.433,\n",
       "   'lon': -104.633,\n",
       "   'elevation': 1420,\n",
       "   'distance': 57549,\n",
       "   'dataset': 'tmy3'},\n",
       "  {'id': '0-24018',\n",
       "   'city': 'CHEYENNE',\n",
       "   'state': 'WYOMING',\n",
       "   'timezone': -7,\n",
       "   'lat': 41.15,\n",
       "   'lon': -104.8,\n",
       "   'elevation': 1867,\n",
       "   'distance': 129897,\n",
       "   'dataset': 'tmy2'},\n",
       "  {'id': '1-725640',\n",
       "   'city': 'CHEYENNE MUNICIPAL ARPT',\n",
       "   'state': 'WYOMING',\n",
       "   'timezone': -7,\n",
       "   'lat': 41.15,\n",
       "   'lon': -104.8,\n",
       "   'elevation': 1867,\n",
       "   'distance': 129897,\n",
       "   'dataset': 'tmy3'},\n",
       "  {'id': '0-93037',\n",
       "   'city': 'COLORADO SPRINGS',\n",
       "   'state': 'COLORADO',\n",
       "   'timezone': -7,\n",
       "   'lat': 38.817,\n",
       "   'lon': -104.717,\n",
       "   'elevation': 1872,\n",
       "   'distance': 134759,\n",
       "   'dataset': 'tmy2'},\n",
       "  {'id': '1-724660',\n",
       "   'city': 'COLORADO SPRINGS MUNI AP',\n",
       "   'state': 'COLORADO',\n",
       "   'timezone': -7,\n",
       "   'lat': 38.817,\n",
       "   'lon': -104.717,\n",
       "   'elevation': 1872,\n",
       "   'distance': 134759,\n",
       "   'dataset': 'tmy3'},\n",
       "  {'id': '1-724673',\n",
       "   'city': 'LEADVILLE/LAKE CO.',\n",
       "   'state': 'COLORADO',\n",
       "   'timezone': -7,\n",
       "   'lat': 39.217,\n",
       "   'lon': -106.317,\n",
       "   'elevation': 3026,\n",
       "   'distance': 142321,\n",
       "   'dataset': 'tmy3'},\n",
       "  {'id': '1-724665',\n",
       "   'city': 'LIMON',\n",
       "   'state': 'COLORADO',\n",
       "   'timezone': -7,\n",
       "   'lat': 39.183,\n",
       "   'lon': -103.717,\n",
       "   'elevation': 1695,\n",
       "   'distance': 142493,\n",
       "   'dataset': 'tmy3'},\n",
       "  {'id': '1-724698',\n",
       "   'city': 'AKRON WASHINGTON CO AP',\n",
       "   'state': 'COLORADO',\n",
       "   'timezone': -7,\n",
       "   'lat': 40.167,\n",
       "   'lon': -103.233,\n",
       "   'elevation': 1421,\n",
       "   'distance': 150519,\n",
       "   'dataset': 'tmy3'},\n",
       "  {'id': '1-725645',\n",
       "   'city': 'LARAMIE GENERAL BREES FIELD',\n",
       "   'state': 'WYOMING',\n",
       "   'timezone': -7,\n",
       "   'lat': 41.317,\n",
       "   'lon': -105.683,\n",
       "   'elevation': 2215,\n",
       "   'distance': 158230,\n",
       "   'dataset': 'tmy3'}]}"
      ]
     },
     "execution_count": 16,
     "metadata": {},
     "output_type": "execute_result"
    }
   ],
   "source": [
    "solar_dataset_query = SolarDatasetQuery(lat=40,\n",
    "                                        lon=-105,\n",
    "                                        radius=100,\n",
    "                                        return_all_stations=True\n",
    "                                       )\n",
    "\n",
    "solar_dataset_query.outputs"
   ]
  },
  {
   "cell_type": "code",
   "execution_count": null,
   "metadata": {},
   "outputs": [],
   "source": []
  }
 ],
 "metadata": {
  "kernelspec": {
   "display_name": "Python [conda env:nrel-dev-api]",
   "language": "python",
   "name": "conda-env-nrel-dev-api-py"
  },
  "language_info": {
   "codemirror_mode": {
    "name": "ipython",
    "version": 3
   },
   "file_extension": ".py",
   "mimetype": "text/x-python",
   "name": "python",
   "nbconvert_exporter": "python",
   "pygments_lexer": "ipython3",
   "version": "3.8.8"
  }
 },
 "nbformat": 4,
 "nbformat_minor": 4
}
