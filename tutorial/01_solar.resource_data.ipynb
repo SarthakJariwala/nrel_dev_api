{
 "cells": [
  {
   "cell_type": "code",
   "execution_count": 15,
   "metadata": {},
   "outputs": [],
   "source": [
    "# default_exp solar.resource_data"
   ]
  },
  {
   "cell_type": "code",
   "execution_count": 16,
   "metadata": {},
   "outputs": [
    {
     "name": "stdout",
     "output_type": "stream",
     "text": [
      "The autoreload extension is already loaded. To reload it, use:\n",
      "  %reload_ext autoreload\n"
     ]
    }
   ],
   "source": [
    "#hide\n",
    "%load_ext autoreload\n",
    "%autoreload 2"
   ]
  },
  {
   "cell_type": "code",
   "execution_count": 17,
   "metadata": {},
   "outputs": [],
   "source": [
    "#hide\n",
    "from nbdev.showdoc import *"
   ]
  },
  {
   "cell_type": "markdown",
   "metadata": {},
   "source": [
    "# Solar Resource Data\n",
    "\n",
    "> Get average Direct Normal Irradiance (avg_dni), average Global Horizontal Irradiance (avg_ghi), and average Tilt (avg_lat_tilt) for a location."
   ]
  },
  {
   "cell_type": "code",
   "execution_count": 29,
   "metadata": {},
   "outputs": [],
   "source": [
    "#export\n",
    "from nrel_dev_api._core import get_request, check_api_key\n",
    "\n",
    "# TODO - add attributes in docstring, add checks for data inputs\n",
    "class SolarResourceData:\n",
    "    \"\"\"Returns various types of solar data for a location as a dictionary. \n",
    "    The service from NREL currently returns data for \n",
    "    average Direct Normal Irradiance, average Global Horizontal Irradiance, \n",
    "    and average Tilt at Latitude.\n",
    "    \"\"\"\n",
    "    \n",
    "    QUERY_URL = \"/api/solar/solar_resource/v1.json\"\n",
    "    \n",
    "    def __init__(self, api_key=None, lat=None, lon=None, address=None):\n",
    "        \n",
    "        if api_key is None:\n",
    "            # check if API key is already set\n",
    "            api_key = check_api_key()\n",
    "            \n",
    "        self._params = {\"api_key\": api_key}\n",
    "        \n",
    "        # if address is not specified latitude and longitude must be specified\n",
    "        if not address:\n",
    "            self._params.update({\"lat\" : lat, \"lon\" : lon})\n",
    "        else:\n",
    "            self._params.update({\"address\": address})\n",
    "            \n",
    "        # complete raw response\n",
    "        r = get_request(self.QUERY_URL, self._params)\n",
    "        \n",
    "        # complete response as a dict\n",
    "        self.response = r.json()\n",
    "        \n",
    "        # only the outputs\n",
    "        self.outputs = self.response[\"outputs\"]\n",
    "        \n",
    "        # get the inputs provided\n",
    "        self.inputs = self.response[\"inputs\"]"
   ]
  },
  {
   "cell_type": "markdown",
   "metadata": {},
   "source": [
    "An example to get solar resource data - average Direct Normal Irradiance, average Global Horizontal Irradiance, and average tilt - from NREL"
   ]
  },
  {
   "cell_type": "code",
   "execution_count": 30,
   "metadata": {},
   "outputs": [],
   "source": [
    "#hide\n",
    "NREL_API_KEY = \"DEMO_KEY\""
   ]
  },
  {
   "cell_type": "markdown",
   "metadata": {},
   "source": [
    "First, let's set our NREL API key."
   ]
  },
  {
   "cell_type": "code",
   "execution_count": 31,
   "metadata": {},
   "outputs": [],
   "source": [
    "from nrel_dev_api import set_nrel_api_key\n",
    "\n",
    "set_nrel_api_key(NREL_API_KEY)"
   ]
  },
  {
   "cell_type": "markdown",
   "metadata": {},
   "source": [
    "> Alternatively, you can provide your NREL Developer API key with every call. Setting it globally is just for convenience."
   ]
  },
  {
   "cell_type": "markdown",
   "metadata": {},
   "source": [
    "Let's check available solar resource data for Seattle, WA."
   ]
  },
  {
   "cell_type": "code",
   "execution_count": 32,
   "metadata": {},
   "outputs": [],
   "source": [
    "solar_resource_data = SolarResourceData(lat=47, lon=-122)"
   ]
  },
  {
   "cell_type": "markdown",
   "metadata": {},
   "source": [
    "Outputs for solar resource data is available as the `outputs` attribute."
   ]
  },
  {
   "cell_type": "code",
   "execution_count": 33,
   "metadata": {},
   "outputs": [
    {
     "data": {
      "text/plain": [
       "{'avg_dni': {'annual': 3.2,\n",
       "  'monthly': {'jan': 1.77,\n",
       "   'feb': 2.51,\n",
       "   'mar': 2.28,\n",
       "   'apr': 3.29,\n",
       "   'may': 3.33,\n",
       "   'jun': 3.65,\n",
       "   'jul': 5.75,\n",
       "   'aug': 5.14,\n",
       "   'sep': 4.62,\n",
       "   'oct': 2.53,\n",
       "   'nov': 1.74,\n",
       "   'dec': 1.7}},\n",
       " 'avg_ghi': {'annual': 3.26,\n",
       "  'monthly': {'jan': 1.09,\n",
       "   'feb': 1.89,\n",
       "   'mar': 2.61,\n",
       "   'apr': 4.05,\n",
       "   'may': 4.66,\n",
       "   'jun': 5.1,\n",
       "   'jul': 6.11,\n",
       "   'aug': 5.17,\n",
       "   'sep': 3.95,\n",
       "   'oct': 2.17,\n",
       "   'nov': 1.25,\n",
       "   'dec': 0.97}},\n",
       " 'avg_lat_tilt': {'annual': 3.78,\n",
       "  'monthly': {'jan': 2.13,\n",
       "   'feb': 3.07,\n",
       "   'mar': 3.24,\n",
       "   'apr': 4.3,\n",
       "   'may': 4.36,\n",
       "   'jun': 4.54,\n",
       "   'jul': 5.71,\n",
       "   'aug': 5.44,\n",
       "   'sep': 5.04,\n",
       "   'oct': 3.23,\n",
       "   'nov': 2.24,\n",
       "   'dec': 2.05}}}"
      ]
     },
     "execution_count": 33,
     "metadata": {},
     "output_type": "execute_result"
    }
   ],
   "source": [
    "solar_resource_data.outputs"
   ]
  },
  {
   "cell_type": "markdown",
   "metadata": {},
   "source": [
    "We can also provide the address to access the solar resource data."
   ]
  },
  {
   "cell_type": "code",
   "execution_count": 34,
   "metadata": {},
   "outputs": [],
   "source": [
    "address = \"Seattle, WA\"\n",
    "\n",
    "solar_resource_data = SolarResourceData(address=address)"
   ]
  },
  {
   "cell_type": "markdown",
   "metadata": {},
   "source": [
    "The complete response as a dictionary is available as the `response` attribute."
   ]
  },
  {
   "cell_type": "code",
   "execution_count": 35,
   "metadata": {},
   "outputs": [
    {
     "data": {
      "text/plain": [
       "{'version': '1.0.0',\n",
       " 'warnings': [],\n",
       " 'errors': [],\n",
       " 'metadata': {'sources': ['Perez-SUNY/NREL, 2012']},\n",
       " 'inputs': {'address': 'Seattle, WA'},\n",
       " 'outputs': {'avg_dni': {'annual': 3.5,\n",
       "   'monthly': {'jan': 1.19,\n",
       "    'feb': 2.73,\n",
       "    'mar': 2.16,\n",
       "    'apr': 3.76,\n",
       "    'may': 4.21,\n",
       "    'jun': 5.14,\n",
       "    'jul': 6.66,\n",
       "    'aug': 5.97,\n",
       "    'sep': 5.12,\n",
       "    'oct': 2.51,\n",
       "    'nov': 1.34,\n",
       "    'dec': 1.21}},\n",
       "  'avg_ghi': {'annual': 3.46,\n",
       "   'monthly': {'jan': 0.98,\n",
       "    'feb': 1.94,\n",
       "    'mar': 2.75,\n",
       "    'apr': 4.51,\n",
       "    'may': 5.34,\n",
       "    'jun': 5.99,\n",
       "    'jul': 6.38,\n",
       "    'aug': 5.48,\n",
       "    'sep': 4.03,\n",
       "    'oct': 2.11,\n",
       "    'nov': 1.12,\n",
       "    'dec': 0.84}},\n",
       "  'avg_lat_tilt': {'annual': 3.98,\n",
       "   'monthly': {'jan': 1.73,\n",
       "    'feb': 3.25,\n",
       "    'mar': 3.43,\n",
       "    'apr': 4.95,\n",
       "    'may': 5.13,\n",
       "    'jun': 5.43,\n",
       "    'jul': 5.98,\n",
       "    'aug': 5.87,\n",
       "    'sep': 5.23,\n",
       "    'oct': 3.18,\n",
       "    'nov': 1.91,\n",
       "    'dec': 1.65}}}}"
      ]
     },
     "execution_count": 35,
     "metadata": {},
     "output_type": "execute_result"
    }
   ],
   "source": [
    "solar_resource_data.response"
   ]
  },
  {
   "cell_type": "code",
   "execution_count": null,
   "metadata": {},
   "outputs": [],
   "source": []
  }
 ],
 "metadata": {
  "kernelspec": {
   "display_name": "Python [conda env:nrel-dev-api]",
   "language": "python",
   "name": "conda-env-nrel-dev-api-py"
  },
  "language_info": {
   "codemirror_mode": {
    "name": "ipython",
    "version": 3
   },
   "file_extension": ".py",
   "mimetype": "text/x-python",
   "name": "python",
   "nbconvert_exporter": "python",
   "pygments_lexer": "ipython3",
   "version": "3.8.8"
  }
 },
 "nbformat": 4,
 "nbformat_minor": 4
}
