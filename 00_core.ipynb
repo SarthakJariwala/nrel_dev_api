{
 "cells": [
  {
   "cell_type": "code",
   "execution_count": null,
   "metadata": {},
   "outputs": [],
   "source": [
    "# default_exp _core"
   ]
  },
  {
   "cell_type": "code",
   "execution_count": null,
   "metadata": {},
   "outputs": [],
   "source": [
    "#hide\n",
    "%load_ext autoreload\n",
    "%autoreload 2"
   ]
  },
  {
   "cell_type": "markdown",
   "metadata": {},
   "source": [
    "# Core\n",
    "\n",
    "> Base functions to get and post requests"
   ]
  },
  {
   "cell_type": "code",
   "execution_count": null,
   "metadata": {},
   "outputs": [],
   "source": [
    "#hide\n",
    "from nbdev.showdoc import *"
   ]
  },
  {
   "cell_type": "code",
   "execution_count": null,
   "metadata": {},
   "outputs": [],
   "source": [
    "#export\n",
    "import requests\n",
    "import warnings\n",
    "\n",
    "\n",
    "BASE_URL = \"https://developer.nrel.gov\"\n",
    "\n",
    "\n",
    "def get_request(query_url, params):\n",
    "    \"\"\"Process the get request and returns the complete response\"\"\"\n",
    "    \n",
    "    resp = requests.get(BASE_URL + query_url, params=params)\n",
    "    \n",
    "    content = resp.json()\n",
    "\n",
    "    # if any warnings are encountered, bring them up to the user\n",
    "    if content.get(\"warnings\"):\n",
    "        warnings.warn(message=str(content[\"warnings\"]), category=UserWarning)\n",
    "    \n",
    "    return resp"
   ]
  },
  {
   "cell_type": "code",
   "execution_count": null,
   "metadata": {},
   "outputs": [],
   "source": [
    "#export\n",
    "\n",
    "_API_KEY = None\n",
    "\n",
    "def set_nrel_api_key(api_key):\n",
    "    \"\"\"Globally set the API key\"\"\"\n",
    "    global _API_KEY\n",
    "    \n",
    "    if api_key:\n",
    "        _API_KEY = api_key\n",
    "    \n",
    "\n",
    "def check_api_key():\n",
    "    \"\"\"Check if API Key has been set.\n",
    "    If not set, a ValueError will be raised.\n",
    "    If set, returns the API KEY.\n",
    "    \"\"\"\n",
    "    global _API_KEY\n",
    "    \n",
    "    if _API_KEY is None:\n",
    "        raise ValueError(\n",
    "            \"\"\"Please provide your NREL Developer API Key.\n",
    "            You can set it using `set_nrel_api_key` function or pass it as `api_key` parameter.\"\"\")\n",
    "    else:\n",
    "        return _API_KEY"
   ]
  },
  {
   "cell_type": "markdown",
   "metadata": {},
   "source": [
    "Globally set your NREL Developer API key. "
   ]
  },
  {
   "cell_type": "code",
   "execution_count": null,
   "metadata": {},
   "outputs": [],
   "source": [
    "set_nrel_api_key(123)"
   ]
  },
  {
   "cell_type": "code",
   "execution_count": null,
   "metadata": {},
   "outputs": [],
   "source": []
  }
 ],
 "metadata": {
  "kernelspec": {
   "display_name": "Python [conda env:nrel-dev-api]",
   "language": "python",
   "name": "conda-env-nrel-dev-api-py"
  }
 },
 "nbformat": 4,
 "nbformat_minor": 4
}
