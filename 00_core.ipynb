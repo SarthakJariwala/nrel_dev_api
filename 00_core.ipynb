{
 "cells": [
  {
   "cell_type": "code",
   "execution_count": null,
   "metadata": {},
   "outputs": [],
   "source": [
    "# default_exp _core"
   ]
  },
  {
   "cell_type": "code",
   "execution_count": null,
   "metadata": {},
   "outputs": [],
   "source": [
    "#hide\n",
    "%load_ext autoreload\n",
    "%autoreload 2"
   ]
  },
  {
   "cell_type": "markdown",
   "metadata": {},
   "source": [
    "# Core\n",
    "\n",
    "> Base functions to get and post requests"
   ]
  },
  {
   "cell_type": "code",
   "execution_count": null,
   "metadata": {},
   "outputs": [],
   "source": [
    "#hide\n",
    "from nbdev.showdoc import *"
   ]
  },
  {
   "cell_type": "code",
   "execution_count": null,
   "metadata": {},
   "outputs": [],
   "source": [
    "#export\n",
    "import requests\n",
    "import warnings\n",
    "\n",
    "\n",
    "BASE_URL = \"https://developer.nrel.gov\"\n",
    "\n",
    "\n",
    "def get_request(query_url, params):\n",
    "    \"\"\"Process the get request and returns the complete response\"\"\"\n",
    "    \n",
    "    resp = requests.get(BASE_URL + query_url, params=params)\n",
    "    \n",
    "    content = resp.json()\n",
    "\n",
    "    # if any warnings are encountered, bring them up to the user\n",
    "    if content.get(\"warnings\"):\n",
    "        warnings.warn(message=str(content[\"warnings\"]), category=UserWarning)\n",
    "    \n",
    "    return resp"
   ]
  }
 ],
 "metadata": {
  "kernelspec": {
   "display_name": "Python [conda env:nrel-dev-api]",
   "language": "python",
   "name": "conda-env-nrel-dev-api-py"
  }
 },
 "nbformat": 4,
 "nbformat_minor": 4
}
