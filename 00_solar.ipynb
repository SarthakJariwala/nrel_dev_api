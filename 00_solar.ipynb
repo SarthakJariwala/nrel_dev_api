{
 "cells": [
  {
   "cell_type": "code",
   "execution_count": null,
   "metadata": {},
   "outputs": [],
   "source": [
    "# default_exp solar"
   ]
  },
  {
   "cell_type": "markdown",
   "metadata": {},
   "source": [
    "# Solar\n",
    "\n",
    "> Access data and analysis services that provide access to solar resource data and NREL models using a python API."
   ]
  },
  {
   "cell_type": "code",
   "execution_count": null,
   "metadata": {},
   "outputs": [],
   "source": [
    "#hide\n",
    "from nbdev.showdoc import *"
   ]
  },
  {
   "cell_type": "markdown",
   "metadata": {},
   "source": [
    "# SolarResourceData\n",
    "\n",
    "Returns various types of solar data for a location. The service from NREL currently returns data for average Direct Normal Irradiance, average Global Horizontal Irradiance, and average Tilt at Latitude. \n",
    "\n",
    "The location can be specified using latitude, longitude or an address."
   ]
  },
  {
   "cell_type": "code",
   "execution_count": null,
   "metadata": {},
   "outputs": [],
   "source": [
    "#export\n",
    "import requests\n",
    "\n",
    "class SolarResourceData:\n",
    "    \"\"\"Returns various types of solar data for a location. \n",
    "    The service from NREL currently returns data for \n",
    "    average Direct Normal Irradiance, average Global Horizontal Irradiance, \n",
    "    and average Tilt at Latitude. The data outout format can be json or xml\n",
    "    \"\"\"\n",
    "    \n",
    "    BASE_URL = \"https://developer.nrel.gov\"\n",
    "    QUERY_URL = \"/api/solar/solar_resource/v1.\"\n",
    "    \n",
    "    def __init__(self, api_key, lat=None, lon=None, address=None, output_format=\"json\"):\n",
    "        \n",
    "        self._params = {\"api_key\": api_key}\n",
    "        \n",
    "        # if address is not specified latitude and longitude must be specified\n",
    "        if not address:\n",
    "            self._params.update({\"lat\" : lat, \"lon\" : lon})\n",
    "        else:\n",
    "            self._params.update({\"address\": address})\n",
    "        \n",
    "        self.output_format = output_format\n",
    "    \n",
    "    def get(self):\n",
    "        resp = requests.get(self.BASE_URL + self.QUERY_URL + f\"{self.output_format}\", params=self._params)\n",
    "        content = resp.json()\n",
    "        return content\n",
    "        "
   ]
  },
  {
   "cell_type": "markdown",
   "metadata": {},
   "source": [
    "An example to get solar resource data from NREL"
   ]
  },
  {
   "cell_type": "markdown",
   "metadata": {},
   "source": [
    "> In order to use the NREL developer API, you will need an API key from NREL. You can get one [here](https://developer.nrel.gov/signup/). The process is simple and only requires your name and email where you will receive the API key. "
   ]
  },
  {
   "cell_type": "code",
   "execution_count": null,
   "metadata": {},
   "outputs": [
    {
     "data": {
      "text/plain": [
       "{'version': '1.0.0',\n",
       " 'warnings': [],\n",
       " 'errors': [],\n",
       " 'metadata': {'sources': ['Perez-SUNY/NREL, 2012']},\n",
       " 'inputs': {'lat': '40', 'lon': '-105'},\n",
       " 'outputs': {'avg_dni': {'annual': 6.06,\n",
       "   'monthly': {'jan': 5.0,\n",
       "    'feb': 5.34,\n",
       "    'mar': 5.94,\n",
       "    'apr': 6.11,\n",
       "    'may': 6.36,\n",
       "    'jun': 7.43,\n",
       "    'jul': 7.48,\n",
       "    'aug': 6.65,\n",
       "    'sep': 6.81,\n",
       "    'oct': 5.82,\n",
       "    'nov': 5.11,\n",
       "    'dec': 4.67}},\n",
       "  'avg_ghi': {'annual': 4.81,\n",
       "   'monthly': {'jan': 2.5,\n",
       "    'feb': 3.43,\n",
       "    'mar': 4.69,\n",
       "    'apr': 5.69,\n",
       "    'may': 6.6,\n",
       "    'jun': 7.25,\n",
       "    'jul': 7.14,\n",
       "    'aug': 6.24,\n",
       "    'sep': 5.35,\n",
       "    'oct': 3.85,\n",
       "    'nov': 2.75,\n",
       "    'dec': 2.19}},\n",
       "  'avg_lat_tilt': {'annual': 5.82,\n",
       "   'monthly': {'jan': 4.79,\n",
       "    'feb': 5.4,\n",
       "    'mar': 6.07,\n",
       "    'apr': 6.11,\n",
       "    'may': 6.25,\n",
       "    'jun': 6.47,\n",
       "    'jul': 6.58,\n",
       "    'aug': 6.44,\n",
       "    'sep': 6.53,\n",
       "    'oct': 5.71,\n",
       "    'nov': 4.99,\n",
       "    'dec': 4.47}}}}"
      ]
     },
     "execution_count": null,
     "metadata": {},
     "output_type": "execute_result"
    }
   ],
   "source": [
    "import os\n",
    "\n",
    "# get developer API from environment variable\n",
    "NREL_API_KEY = os.environ[\"NREL_API_KEY\"]\n",
    "\n",
    "solar_resource_data = SolarResourceData(api_key=NREL_API_KEY, lat=40, lon=-105, output_format=\"json\")\n",
    "\n",
    "solar_resource_data.get()"
   ]
  },
  {
   "cell_type": "code",
   "execution_count": null,
   "metadata": {},
   "outputs": [],
   "source": []
  }
 ],
 "metadata": {
  "kernelspec": {
   "display_name": "Python [conda env:nrel-dev-api]",
   "language": "python",
   "name": "conda-env-nrel-dev-api-py"
  }
 },
 "nbformat": 4,
 "nbformat_minor": 4
}
