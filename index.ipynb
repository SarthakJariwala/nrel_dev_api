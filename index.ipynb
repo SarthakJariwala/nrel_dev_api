{
 "cells": [
  {
   "cell_type": "code",
   "execution_count": null,
   "metadata": {},
   "outputs": [],
   "source": [
    "#hide\n",
    "from nrel_dev_api.solar import *\n",
    "\n",
    "%load_ext autoreload\n",
    "%autoreload 2"
   ]
  },
  {
   "cell_type": "markdown",
   "metadata": {},
   "source": [
    "# nrel-dev-api\n",
    "\n",
    "> Python API for NREL (National Renewable Energy Lab) developer API."
   ]
  },
  {
   "cell_type": "markdown",
   "metadata": {},
   "source": [
    "*NOTE: In order to use the NREL developer API, you will need an API key from NREL. You can get one [here](https://developer.nrel.gov/signup/). The process is simple and only requires your name and email (where you will receive the API key).*"
   ]
  },
  {
   "cell_type": "markdown",
   "metadata": {},
   "source": [
    "## Install"
   ]
  },
  {
   "cell_type": "markdown",
   "metadata": {},
   "source": [
    "`pip install nrel_dev_api`"
   ]
  },
  {
   "cell_type": "markdown",
   "metadata": {},
   "source": [
    "## How to use"
   ]
  },
  {
   "cell_type": "markdown",
   "metadata": {},
   "source": [
    "## SolarResourceData"
   ]
  },
  {
   "cell_type": "code",
   "execution_count": null,
   "metadata": {},
   "outputs": [
    {
     "data": {
      "text/plain": [
       "{'version': '1.0.0',\n",
       " 'warnings': [],\n",
       " 'errors': [],\n",
       " 'metadata': {'sources': ['Perez-SUNY/NREL, 2012']},\n",
       " 'inputs': {'lat': '40', 'lon': '-105'},\n",
       " 'outputs': {'avg_dni': {'annual': 6.06,\n",
       "   'monthly': {'jan': 5.0,\n",
       "    'feb': 5.34,\n",
       "    'mar': 5.94,\n",
       "    'apr': 6.11,\n",
       "    'may': 6.36,\n",
       "    'jun': 7.43,\n",
       "    'jul': 7.48,\n",
       "    'aug': 6.65,\n",
       "    'sep': 6.81,\n",
       "    'oct': 5.82,\n",
       "    'nov': 5.11,\n",
       "    'dec': 4.67}},\n",
       "  'avg_ghi': {'annual': 4.81,\n",
       "   'monthly': {'jan': 2.5,\n",
       "    'feb': 3.43,\n",
       "    'mar': 4.69,\n",
       "    'apr': 5.69,\n",
       "    'may': 6.6,\n",
       "    'jun': 7.25,\n",
       "    'jul': 7.14,\n",
       "    'aug': 6.24,\n",
       "    'sep': 5.35,\n",
       "    'oct': 3.85,\n",
       "    'nov': 2.75,\n",
       "    'dec': 2.19}},\n",
       "  'avg_lat_tilt': {'annual': 5.82,\n",
       "   'monthly': {'jan': 4.79,\n",
       "    'feb': 5.4,\n",
       "    'mar': 6.07,\n",
       "    'apr': 6.11,\n",
       "    'may': 6.25,\n",
       "    'jun': 6.47,\n",
       "    'jul': 6.58,\n",
       "    'aug': 6.44,\n",
       "    'sep': 6.53,\n",
       "    'oct': 5.71,\n",
       "    'nov': 4.99,\n",
       "    'dec': 4.47}}}}"
      ]
     },
     "execution_count": null,
     "metadata": {},
     "output_type": "execute_result"
    }
   ],
   "source": [
    "\"\"\"Get solar resource data for a specific location\"\"\"\n",
    "\n",
    "NREL_API_KEY = \"DEMO_KEY\"\n",
    "\n",
    "# create a class\n",
    "solar_resource_data = SolarResourceData(api_key=NREL_API_KEY, lat=40, lon=-105)\n",
    "\n",
    "# perform the get request\n",
    "solar_resource_data.get()"
   ]
  },
  {
   "cell_type": "markdown",
   "metadata": {},
   "source": [
    "## PVWatts V6"
   ]
  },
  {
   "cell_type": "code",
   "execution_count": null,
   "metadata": {},
   "outputs": [
    {
     "data": {
      "text/plain": [
       "{'inputs': {'system_capacity': '4',\n",
       "  'module_type': '1',\n",
       "  'losses': '10',\n",
       "  'array_type': '1',\n",
       "  'tilt': '40',\n",
       "  'azimuth': '180',\n",
       "  'lat': '40',\n",
       "  'lon': '-105',\n",
       "  'dataset': 'nsrdb',\n",
       "  'radius': '100',\n",
       "  'timeframe': 'monthly',\n",
       "  'dc_ac_ratio': '1.2',\n",
       "  'gcr': '0.4',\n",
       "  'inv_eff': '96'},\n",
       " 'errors': [],\n",
       " 'warnings': [],\n",
       " 'version': '1.0.2',\n",
       " 'ssc_info': {'version': 45,\n",
       "  'build': 'Linux 64 bit GNU/C++ Jul  7 2015 14:24:09'},\n",
       " 'station_info': {'lat': 40.0099983215332,\n",
       "  'lon': -105.0199966430664,\n",
       "  'elev': 1581.839965820312,\n",
       "  'tz': -7.0,\n",
       "  'location': 'None',\n",
       "  'city': '',\n",
       "  'state': 'Colorado',\n",
       "  'solar_resource_file': 'W10502N4001.csv',\n",
       "  'distance': 2029},\n",
       " 'outputs': {'ac_monthly': [474.4326171875,\n",
       "   484.3903503417969,\n",
       "   595.7704467773438,\n",
       "   592.0599365234375,\n",
       "   591.2662353515625,\n",
       "   589.3538208007812,\n",
       "   583.2352905273438,\n",
       "   586.4593505859375,\n",
       "   584.8131713867188,\n",
       "   561.72314453125,\n",
       "   486.1260375976562,\n",
       "   445.6881713867188],\n",
       "  'poa_monthly': [141.4809417724609,\n",
       "   145.5711975097656,\n",
       "   184.7876434326172,\n",
       "   181.5513763427734,\n",
       "   186.4280853271484,\n",
       "   190.5132904052734,\n",
       "   188.7499694824219,\n",
       "   190.5398101806641,\n",
       "   188.2213134765625,\n",
       "   175.4444122314453,\n",
       "   146.3170471191406,\n",
       "   131.1568298339844],\n",
       "  'solrad_monthly': [4.563901424407959,\n",
       "   5.198971271514893,\n",
       "   5.960891723632812,\n",
       "   6.051712512969971,\n",
       "   6.013809204101562,\n",
       "   6.350442886352539,\n",
       "   6.088708877563477,\n",
       "   6.146445274353027,\n",
       "   6.274043560028076,\n",
       "   5.659497261047363,\n",
       "   4.877234935760498,\n",
       "   4.230865478515625],\n",
       "  'dc_monthly': [497.9421081542969,\n",
       "   511.1524963378906,\n",
       "   634.3223266601562,\n",
       "   623.7313842773438,\n",
       "   617.8812866210938,\n",
       "   615.4278564453125,\n",
       "   609.3965454101562,\n",
       "   612.7506713867188,\n",
       "   610.5584106445312,\n",
       "   588.6157836914062,\n",
       "   508.0747680664062,\n",
       "   465.4272155761719],\n",
       "  'ac_annual': 6575.31884765625,\n",
       "  'solrad_annual': 5.618043899536133,\n",
       "  'capacity_factor': 18.76517868041992}}"
      ]
     },
     "execution_count": null,
     "metadata": {},
     "output_type": "execute_result"
    }
   ],
   "source": [
    "\"\"\"Estimate the energy production of grid-connected photovoltaic (PV) energy systems \n",
    "using NREL's PVWatts V6 API based on a few simple inputs.\"\"\"\n",
    "\n",
    "# create PVWattsV6 class\n",
    "pvwatts_v6 = PVWattsV6(api_key=NREL_API_KEY,\n",
    "                       system_capacity=4,\n",
    "                       lat=40,\n",
    "                       lon=-105,\n",
    "                       azimuth=180,\n",
    "                       tilt=40,\n",
    "                       array_type=1,\n",
    "                       module_type=1,\n",
    "                       losses=10\n",
    "                      )\n",
    "\n",
    "# request the estimate\n",
    "pvwatts_v6.get()"
   ]
  },
  {
   "cell_type": "code",
   "execution_count": null,
   "metadata": {},
   "outputs": [],
   "source": []
  }
 ],
 "metadata": {
  "kernelspec": {
   "display_name": "Python [conda env:nrel-dev-api]",
   "language": "python",
   "name": "conda-env-nrel-dev-api-py"
  }
 },
 "nbformat": 4,
 "nbformat_minor": 4
}
