{
 "cells": [
  {
   "cell_type": "code",
   "execution_count": null,
   "metadata": {},
   "outputs": [],
   "source": [
    "#hide\n",
    "from nrel_dev_api.solar import *"
   ]
  },
  {
   "cell_type": "markdown",
   "metadata": {},
   "source": [
    "# nrel-dev-api\n",
    "\n",
    "> Python API for NREL (National Renewable Energy Lab) developer API."
   ]
  },
  {
   "cell_type": "markdown",
   "metadata": {},
   "source": [
    "*NOTE: In order to use the NREL developer API, you will need an API key from NREL. You can get one [here](https://developer.nrel.gov/signup/). The process is simple and only requires your name and email (where you will receive the API key).*"
   ]
  },
  {
   "cell_type": "markdown",
   "metadata": {},
   "source": [
    "## Install"
   ]
  },
  {
   "cell_type": "markdown",
   "metadata": {},
   "source": [
    "`pip install nrel_dev_api`"
   ]
  },
  {
   "cell_type": "markdown",
   "metadata": {},
   "source": [
    "## How to use"
   ]
  },
  {
   "cell_type": "markdown",
   "metadata": {},
   "source": [
    "## SolarResourceData"
   ]
  },
  {
   "cell_type": "code",
   "execution_count": null,
   "metadata": {},
   "outputs": [
    {
     "data": {
      "text/plain": [
       "{'version': '1.0.0',\n",
       " 'warnings': [],\n",
       " 'errors': [],\n",
       " 'metadata': {'sources': ['Perez-SUNY/NREL, 2012']},\n",
       " 'inputs': {'lat': '40', 'lon': '-105'},\n",
       " 'outputs': {'avg_dni': {'annual': 6.06,\n",
       "   'monthly': {'jan': 5.0,\n",
       "    'feb': 5.34,\n",
       "    'mar': 5.94,\n",
       "    'apr': 6.11,\n",
       "    'may': 6.36,\n",
       "    'jun': 7.43,\n",
       "    'jul': 7.48,\n",
       "    'aug': 6.65,\n",
       "    'sep': 6.81,\n",
       "    'oct': 5.82,\n",
       "    'nov': 5.11,\n",
       "    'dec': 4.67}},\n",
       "  'avg_ghi': {'annual': 4.81,\n",
       "   'monthly': {'jan': 2.5,\n",
       "    'feb': 3.43,\n",
       "    'mar': 4.69,\n",
       "    'apr': 5.69,\n",
       "    'may': 6.6,\n",
       "    'jun': 7.25,\n",
       "    'jul': 7.14,\n",
       "    'aug': 6.24,\n",
       "    'sep': 5.35,\n",
       "    'oct': 3.85,\n",
       "    'nov': 2.75,\n",
       "    'dec': 2.19}},\n",
       "  'avg_lat_tilt': {'annual': 5.82,\n",
       "   'monthly': {'jan': 4.79,\n",
       "    'feb': 5.4,\n",
       "    'mar': 6.07,\n",
       "    'apr': 6.11,\n",
       "    'may': 6.25,\n",
       "    'jun': 6.47,\n",
       "    'jul': 6.58,\n",
       "    'aug': 6.44,\n",
       "    'sep': 6.53,\n",
       "    'oct': 5.71,\n",
       "    'nov': 4.99,\n",
       "    'dec': 4.47}}}}"
      ]
     },
     "execution_count": null,
     "metadata": {},
     "output_type": "execute_result"
    }
   ],
   "source": [
    "\"\"\"Get solar resource data for a specific location\"\"\"\n",
    "\n",
    "NREL_API_KEY = \"DEMO_KEY\"\n",
    "\n",
    "# create a class\n",
    "solar_resource_data = SolarResourceData(api_key=NREL_API_KEY, lat=40, lon=-105)\n",
    "\n",
    "# perform the get request\n",
    "solar_resource_data.get()"
   ]
  },
  {
   "cell_type": "code",
   "execution_count": null,
   "metadata": {},
   "outputs": [],
   "source": []
  }
 ],
 "metadata": {
  "kernelspec": {
   "display_name": "Python 3",
   "language": "python",
   "name": "python3"
  }
 },
 "nbformat": 4,
 "nbformat_minor": 4
}
