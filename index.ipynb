{
 "cells": [
  {
   "cell_type": "code",
   "execution_count": null,
   "metadata": {},
   "outputs": [],
   "source": [
    "#hide\n",
    "%load_ext autoreload\n",
    "%autoreload 2"
   ]
  },
  {
   "cell_type": "markdown",
   "metadata": {},
   "source": [
    "# nrel-dev-api\n",
    "\n",
    "> Access data and analysis services that NREL (National Renewable Energy Lab) provides using a python API."
   ]
  },
  {
   "cell_type": "markdown",
   "metadata": {},
   "source": [
    "*NOTE: In order to use the NREL developer API, you will need an API key from NREL. You can get one [here](https://developer.nrel.gov/signup/). The process is simple and only requires your name and email (where you will receive the API key).*"
   ]
  },
  {
   "cell_type": "markdown",
   "metadata": {},
   "source": [
    "## Install"
   ]
  },
  {
   "cell_type": "markdown",
   "metadata": {},
   "source": [
    "`pip install --upgrade nrel_dev_api`"
   ]
  },
  {
   "cell_type": "markdown",
   "metadata": {},
   "source": [
    "## How to use"
   ]
  },
  {
   "cell_type": "code",
   "execution_count": null,
   "metadata": {},
   "outputs": [],
   "source": [
    "#hide\n",
    "NREL_API_KEY = \"DEMO_KEY\""
   ]
  },
  {
   "cell_type": "markdown",
   "metadata": {},
   "source": [
    "### PVWatts V6\n",
    "\n",
    "Estimate the energy production of grid-connected photovoltaic (PV) energy systems using NREL's PVWatts V6 API based on a few simple location and system inputs."
   ]
  },
  {
   "cell_type": "code",
   "execution_count": null,
   "metadata": {},
   "outputs": [
    {
     "data": {
      "text/plain": [
       "{'ac_monthly': [197.7586059570312,\n",
       "  281.6268005371094,\n",
       "  370.9747619628906,\n",
       "  494.173583984375,\n",
       "  512.7410888671875,\n",
       "  540.3777465820312,\n",
       "  592.75146484375,\n",
       "  578.3128662109375,\n",
       "  484.0272521972656,\n",
       "  333.1608276367188,\n",
       "  233.0740203857422,\n",
       "  186.9368896484375],\n",
       " 'poa_monthly': [58.9533576965332,\n",
       "  83.970703125,\n",
       "  113.2405624389648,\n",
       "  153.9364776611328,\n",
       "  160.2881927490234,\n",
       "  171.4797973632812,\n",
       "  192.8575592041016,\n",
       "  188.4494323730469,\n",
       "  154.3850555419922,\n",
       "  102.9901733398438,\n",
       "  69.81695556640625,\n",
       "  55.09452438354492],\n",
       " 'solrad_monthly': [1.901721239089966,\n",
       "  2.998953580856323,\n",
       "  3.652921438217163,\n",
       "  5.131216049194336,\n",
       "  5.170587062835693,\n",
       "  5.715993404388428,\n",
       "  6.221211433410645,\n",
       "  6.079013824462891,\n",
       "  5.14616870880127,\n",
       "  3.322263717651367,\n",
       "  2.327231884002686,\n",
       "  1.77724277973175],\n",
       " 'dc_monthly': [208.4532623291016,\n",
       "  295.5293273925781,\n",
       "  388.7458190917969,\n",
       "  516.7040405273438,\n",
       "  536.7205200195312,\n",
       "  565.5615234375,\n",
       "  619.6510620117188,\n",
       "  604.18212890625,\n",
       "  505.6007690429688,\n",
       "  349.08642578125,\n",
       "  244.8111724853516,\n",
       "  196.868896484375],\n",
       " 'ac_annual': 4805.91552734375,\n",
       " 'solrad_annual': 4.120377063751221,\n",
       " 'capacity_factor': 13.7155122756958}"
      ]
     },
     "execution_count": null,
     "metadata": {},
     "output_type": "execute_result"
    }
   ],
   "source": [
    "from nrel_dev_api.solar import PVWattsV6\n",
    "\n",
    "# create PVWattsV6 class and pass the necessary location and system inputs\n",
    "pvwatts_v6 = PVWattsV6(api_key=NREL_API_KEY,\n",
    "                       system_capacity=4,\n",
    "                       address=\"Seattle, WA\",\n",
    "                       azimuth=180,\n",
    "                       tilt=40,\n",
    "                       array_type=1,\n",
    "                       module_type=1,\n",
    "                       losses=10\n",
    "                      )\n",
    "\n",
    "# the output data is stored in the outputs attribute\n",
    "pvwatts_v6.outputs"
   ]
  },
  {
   "cell_type": "markdown",
   "metadata": {},
   "source": [
    "You can also view the details about the station."
   ]
  },
  {
   "cell_type": "code",
   "execution_count": null,
   "metadata": {},
   "outputs": [
    {
     "data": {
      "text/plain": [
       "{'lat': 47.61000061035156,\n",
       " 'lon': -122.3399963378906,\n",
       " 'elev': 48.70000076293945,\n",
       " 'tz': -8.0,\n",
       " 'location': 'None',\n",
       " 'city': '',\n",
       " 'state': 'Washington',\n",
       " 'solar_resource_file': 'W12234N4761.csv',\n",
       " 'distance': 1048}"
      ]
     },
     "execution_count": null,
     "metadata": {},
     "output_type": "execute_result"
    }
   ],
   "source": [
    "pvwatts_v6.station_info"
   ]
  },
  {
   "cell_type": "markdown",
   "metadata": {},
   "source": [
    "### Query National Solar Radiation Database (NSRDB)"
   ]
  },
  {
   "cell_type": "code",
   "execution_count": null,
   "metadata": {},
   "outputs": [
    {
     "data": {
      "text/plain": [
       "[{'apiDocs': 'https://developer.nrel.gov/docs/solar/nsrdb/msg-iodc/',\n",
       "  'availableIntervals': [15, 30, 60],\n",
       "  'enabled': True,\n",
       "  'displayName': 'MSG IODC: PSM v3',\n",
       "  'metadataLink': 'https://nsrdb.nrel.gov/current-version',\n",
       "  'name': 'msg-iodc',\n",
       "  'ranking': 20,\n",
       "  'availableYears': [2017, 2018, 2019],\n",
       "  'apiUrl': 'https://developer.nrel.gov/api/nsrdb/v2/solar/msg-iodc-download',\n",
       "  'links': [{'year': 2017,\n",
       "    'interval': 15,\n",
       "    'link': 'https://developer.nrel.gov/api/nsrdb/v2/solar/msg-iodc-download.csv?names=2017&wkt=POINT%2891.287+23.832%29&interval=15&api_key=yourapikey&email=youremail'},\n",
       "   {'year': 2018,\n",
       "    'interval': 15,\n",
       "    'link': 'https://developer.nrel.gov/api/nsrdb/v2/solar/msg-iodc-download.csv?names=2018&wkt=POINT%2891.287+23.832%29&interval=15&api_key=yourapikey&email=youremail'},\n",
       "   {'year': 2019,\n",
       "    'interval': 15,\n",
       "    'link': 'https://developer.nrel.gov/api/nsrdb/v2/solar/msg-iodc-download.csv?names=2019&wkt=POINT%2891.287+23.832%29&interval=15&api_key=yourapikey&email=youremail'},\n",
       "   {'year': 2017,\n",
       "    'interval': 30,\n",
       "    'link': 'https://developer.nrel.gov/api/nsrdb/v2/solar/msg-iodc-download.csv?names=2017&wkt=POINT%2891.287+23.832%29&interval=30&api_key=yourapikey&email=youremail'},\n",
       "   {'year': 2018,\n",
       "    'interval': 30,\n",
       "    'link': 'https://developer.nrel.gov/api/nsrdb/v2/solar/msg-iodc-download.csv?names=2018&wkt=POINT%2891.287+23.832%29&interval=30&api_key=yourapikey&email=youremail'},\n",
       "   {'year': 2019,\n",
       "    'interval': 30,\n",
       "    'link': 'https://developer.nrel.gov/api/nsrdb/v2/solar/msg-iodc-download.csv?names=2019&wkt=POINT%2891.287+23.832%29&interval=30&api_key=yourapikey&email=youremail'},\n",
       "   {'year': 2017,\n",
       "    'interval': 60,\n",
       "    'link': 'https://developer.nrel.gov/api/nsrdb/v2/solar/msg-iodc-download.csv?names=2017&wkt=POINT%2891.287+23.832%29&interval=60&api_key=yourapikey&email=youremail'},\n",
       "   {'year': 2018,\n",
       "    'interval': 60,\n",
       "    'link': 'https://developer.nrel.gov/api/nsrdb/v2/solar/msg-iodc-download.csv?names=2018&wkt=POINT%2891.287+23.832%29&interval=60&api_key=yourapikey&email=youremail'},\n",
       "   {'year': 2019,\n",
       "    'interval': 60,\n",
       "    'link': 'https://developer.nrel.gov/api/nsrdb/v2/solar/msg-iodc-download.csv?names=2019&wkt=POINT%2891.287+23.832%29&interval=60&api_key=yourapikey&email=youremail'}]},\n",
       " {'apiDocs': 'https://developer.nrel.gov/docs/solar/nsrdb/spectral-tmy-india-download/',\n",
       "  'availableIntervals': [60],\n",
       "  'enabled': True,\n",
       "  'displayName': 'SUNY International Spectral',\n",
       "  'metadataLink': 'https://nsrdb.nrel.gov',\n",
       "  'name': 'spectral-india-tmy',\n",
       "  'ranking': 40,\n",
       "  'availableYears': ['tmy'],\n",
       "  'apiUrl': 'https://developer.nrel.gov/api/nsrdb/v2/solar/spectral-india-tmy-download',\n",
       "  'links': [{'year': 'tmy',\n",
       "    'interval': 60,\n",
       "    'link': 'https://developer.nrel.gov/api/nsrdb/v2/solar/spectral-india-tmy-download.csv?names=tmy&wkt=POINT%2891.287+23.832%29&interval=60&api_key=yourapikey&email=youremail'}]},\n",
       " {'apiDocs': 'https://developer.nrel.gov/docs/solar/nsrdb/suny-india-data-download/',\n",
       "  'availableIntervals': [60],\n",
       "  'enabled': True,\n",
       "  'displayName': 'SUNY International',\n",
       "  'metadataLink': 'https://nsrdb.nrel.gov',\n",
       "  'name': 'suny-india',\n",
       "  'ranking': 20,\n",
       "  'availableYears': [2000,\n",
       "   2001,\n",
       "   2002,\n",
       "   2003,\n",
       "   2004,\n",
       "   2005,\n",
       "   2006,\n",
       "   2007,\n",
       "   2008,\n",
       "   2009,\n",
       "   2010,\n",
       "   2011,\n",
       "   2012,\n",
       "   2013,\n",
       "   2014],\n",
       "  'apiUrl': 'https://developer.nrel.gov/api/nsrdb/v2/solar/suny-india-download',\n",
       "  'links': [{'year': 2000,\n",
       "    'interval': 60,\n",
       "    'link': 'https://developer.nrel.gov/api/nsrdb/v2/solar/suny-india-download.csv?names=2000&wkt=POINT%2891.287+23.832%29&interval=60&api_key=yourapikey&email=youremail'},\n",
       "   {'year': 2001,\n",
       "    'interval': 60,\n",
       "    'link': 'https://developer.nrel.gov/api/nsrdb/v2/solar/suny-india-download.csv?names=2001&wkt=POINT%2891.287+23.832%29&interval=60&api_key=yourapikey&email=youremail'},\n",
       "   {'year': 2002,\n",
       "    'interval': 60,\n",
       "    'link': 'https://developer.nrel.gov/api/nsrdb/v2/solar/suny-india-download.csv?names=2002&wkt=POINT%2891.287+23.832%29&interval=60&api_key=yourapikey&email=youremail'},\n",
       "   {'year': 2003,\n",
       "    'interval': 60,\n",
       "    'link': 'https://developer.nrel.gov/api/nsrdb/v2/solar/suny-india-download.csv?names=2003&wkt=POINT%2891.287+23.832%29&interval=60&api_key=yourapikey&email=youremail'},\n",
       "   {'year': 2004,\n",
       "    'interval': 60,\n",
       "    'link': 'https://developer.nrel.gov/api/nsrdb/v2/solar/suny-india-download.csv?names=2004&wkt=POINT%2891.287+23.832%29&interval=60&api_key=yourapikey&email=youremail'},\n",
       "   {'year': 2005,\n",
       "    'interval': 60,\n",
       "    'link': 'https://developer.nrel.gov/api/nsrdb/v2/solar/suny-india-download.csv?names=2005&wkt=POINT%2891.287+23.832%29&interval=60&api_key=yourapikey&email=youremail'},\n",
       "   {'year': 2006,\n",
       "    'interval': 60,\n",
       "    'link': 'https://developer.nrel.gov/api/nsrdb/v2/solar/suny-india-download.csv?names=2006&wkt=POINT%2891.287+23.832%29&interval=60&api_key=yourapikey&email=youremail'},\n",
       "   {'year': 2007,\n",
       "    'interval': 60,\n",
       "    'link': 'https://developer.nrel.gov/api/nsrdb/v2/solar/suny-india-download.csv?names=2007&wkt=POINT%2891.287+23.832%29&interval=60&api_key=yourapikey&email=youremail'},\n",
       "   {'year': 2008,\n",
       "    'interval': 60,\n",
       "    'link': 'https://developer.nrel.gov/api/nsrdb/v2/solar/suny-india-download.csv?names=2008&wkt=POINT%2891.287+23.832%29&interval=60&api_key=yourapikey&email=youremail'},\n",
       "   {'year': 2009,\n",
       "    'interval': 60,\n",
       "    'link': 'https://developer.nrel.gov/api/nsrdb/v2/solar/suny-india-download.csv?names=2009&wkt=POINT%2891.287+23.832%29&interval=60&api_key=yourapikey&email=youremail'},\n",
       "   {'year': 2010,\n",
       "    'interval': 60,\n",
       "    'link': 'https://developer.nrel.gov/api/nsrdb/v2/solar/suny-india-download.csv?names=2010&wkt=POINT%2891.287+23.832%29&interval=60&api_key=yourapikey&email=youremail'},\n",
       "   {'year': 2011,\n",
       "    'interval': 60,\n",
       "    'link': 'https://developer.nrel.gov/api/nsrdb/v2/solar/suny-india-download.csv?names=2011&wkt=POINT%2891.287+23.832%29&interval=60&api_key=yourapikey&email=youremail'},\n",
       "   {'year': 2012,\n",
       "    'interval': 60,\n",
       "    'link': 'https://developer.nrel.gov/api/nsrdb/v2/solar/suny-india-download.csv?names=2012&wkt=POINT%2891.287+23.832%29&interval=60&api_key=yourapikey&email=youremail'},\n",
       "   {'year': 2013,\n",
       "    'interval': 60,\n",
       "    'link': 'https://developer.nrel.gov/api/nsrdb/v2/solar/suny-india-download.csv?names=2013&wkt=POINT%2891.287+23.832%29&interval=60&api_key=yourapikey&email=youremail'},\n",
       "   {'year': 2014,\n",
       "    'interval': 60,\n",
       "    'link': 'https://developer.nrel.gov/api/nsrdb/v2/solar/suny-india-download.csv?names=2014&wkt=POINT%2891.287+23.832%29&interval=60&api_key=yourapikey&email=youremail'}]},\n",
       " {'apiDocs': 'https://developer.nrel.gov/docs/solar/nsrdb/suny-india-tmy-data-download/',\n",
       "  'availableIntervals': [60],\n",
       "  'enabled': True,\n",
       "  'displayName': 'SUNY International TMY',\n",
       "  'metadataLink': 'https://nsrdb.nrel.gov',\n",
       "  'name': 'suny-india-tmy',\n",
       "  'ranking': 20,\n",
       "  'availableYears': ['tmy'],\n",
       "  'apiUrl': 'https://developer.nrel.gov/api/nsrdb/v2/solar/suny-india-tmy-download',\n",
       "  'links': [{'year': 'tmy',\n",
       "    'interval': 60,\n",
       "    'link': 'https://developer.nrel.gov/api/nsrdb/v2/solar/suny-india-tmy-download.csv?names=tmy&wkt=POINT%2891.287+23.832%29&interval=60&api_key=yourapikey&email=youremail'}]}]"
      ]
     },
     "execution_count": null,
     "metadata": {},
     "output_type": "execute_result"
    }
   ],
   "source": [
    "from nrel_dev_api.solar import NSRDB_DataQuery\n",
    "\n",
    "nsrdb_data_query = NSRDB_DataQuery(api_key=NREL_API_KEY, wkt=\"POINT(91.287 23.832)\")\n",
    "\n",
    "# check the outputs\n",
    "nsrdb_data_query.outputs"
   ]
  },
  {
   "cell_type": "markdown",
   "metadata": {},
   "source": [
    "### Get solar resource data for a specific location"
   ]
  },
  {
   "cell_type": "code",
   "execution_count": null,
   "metadata": {},
   "outputs": [
    {
     "data": {
      "text/plain": [
       "{'avg_dni': {'annual': 6.06,\n",
       "  'monthly': {'jan': 5.0,\n",
       "   'feb': 5.34,\n",
       "   'mar': 5.94,\n",
       "   'apr': 6.11,\n",
       "   'may': 6.36,\n",
       "   'jun': 7.43,\n",
       "   'jul': 7.48,\n",
       "   'aug': 6.65,\n",
       "   'sep': 6.81,\n",
       "   'oct': 5.82,\n",
       "   'nov': 5.11,\n",
       "   'dec': 4.67}},\n",
       " 'avg_ghi': {'annual': 4.81,\n",
       "  'monthly': {'jan': 2.5,\n",
       "   'feb': 3.43,\n",
       "   'mar': 4.69,\n",
       "   'apr': 5.69,\n",
       "   'may': 6.6,\n",
       "   'jun': 7.25,\n",
       "   'jul': 7.14,\n",
       "   'aug': 6.24,\n",
       "   'sep': 5.35,\n",
       "   'oct': 3.85,\n",
       "   'nov': 2.75,\n",
       "   'dec': 2.19}},\n",
       " 'avg_lat_tilt': {'annual': 5.82,\n",
       "  'monthly': {'jan': 4.79,\n",
       "   'feb': 5.4,\n",
       "   'mar': 6.07,\n",
       "   'apr': 6.11,\n",
       "   'may': 6.25,\n",
       "   'jun': 6.47,\n",
       "   'jul': 6.58,\n",
       "   'aug': 6.44,\n",
       "   'sep': 6.53,\n",
       "   'oct': 5.71,\n",
       "   'nov': 4.99,\n",
       "   'dec': 4.47}}}"
      ]
     },
     "execution_count": null,
     "metadata": {},
     "output_type": "execute_result"
    }
   ],
   "source": [
    "from nrel_dev_api.solar import SolarResourceData\n",
    "\n",
    "# get solar resource data for a specific latitude and longitude\n",
    "solar_resource_data = SolarResourceData(api_key=NREL_API_KEY, lat=40, lon=-105)\n",
    "\n",
    "# the output data is stored in the outputs attribute\n",
    "solar_resource_data.outputs"
   ]
  },
  {
   "cell_type": "markdown",
   "metadata": {},
   "source": [
    "### Get information on the closest climate data for a location."
   ]
  },
  {
   "cell_type": "code",
   "execution_count": null,
   "metadata": {},
   "outputs": [
    {
     "data": {
      "text/plain": [
       "{'tmy2': {'id': '0-23234',\n",
       "  'city': 'SAN FRANCISCO',\n",
       "  'state': 'CALIFORNIA',\n",
       "  'timezone': -8,\n",
       "  'lat': 37.617,\n",
       "  'lon': -122.4,\n",
       "  'elevation': 2,\n",
       "  'distance': 18362},\n",
       " 'tmy3': {'id': '1-724940',\n",
       "  'city': 'SAN FRANCISCO INTL AP',\n",
       "  'state': 'CALIFORNIA',\n",
       "  'timezone': -8,\n",
       "  'lat': 37.617,\n",
       "  'lon': -122.4,\n",
       "  'elevation': 2,\n",
       "  'distance': 18362},\n",
       " 'intl': None,\n",
       " 'nsrdb': {'id': '3-W122N037-W12242N3777',\n",
       "  'city': '',\n",
       "  'state': 'California',\n",
       "  'country': None,\n",
       "  'lat': 37.77,\n",
       "  'lon': -122.42,\n",
       "  'distance': 1129,\n",
       "  'timezone': -8,\n",
       "  'elevation': 55,\n",
       "  'resolution': 4}}"
      ]
     },
     "execution_count": null,
     "metadata": {},
     "output_type": "execute_result"
    }
   ],
   "source": [
    "from nrel_dev_api.solar import SolarDatasetQuery\n",
    "\n",
    "# create a dataset query class\n",
    "solar_dataset_query = SolarDatasetQuery(api_key=NREL_API_KEY, address=\"San Francisco, CA\")\n",
    "\n",
    "# get the output\n",
    "solar_dataset_query.outputs"
   ]
  },
  {
   "cell_type": "code",
   "execution_count": null,
   "metadata": {},
   "outputs": [],
   "source": []
  }
 ],
 "metadata": {
  "kernelspec": {
   "display_name": "Python [conda env:nrel-dev-api]",
   "language": "python",
   "name": "conda-env-nrel-dev-api-py"
  }
 },
 "nbformat": 4,
 "nbformat_minor": 4
}
