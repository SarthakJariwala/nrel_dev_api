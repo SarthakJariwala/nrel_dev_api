{
 "cells": [
  {
   "cell_type": "code",
   "execution_count": null,
   "metadata": {},
   "outputs": [],
   "source": [
    "# default_exp solar"
   ]
  },
  {
   "cell_type": "code",
   "execution_count": null,
   "metadata": {},
   "outputs": [
    {
     "name": "stdout",
     "output_type": "stream",
     "text": [
      "The autoreload extension is already loaded. To reload it, use:\n",
      "  %reload_ext autoreload\n"
     ]
    }
   ],
   "source": [
    "#hide\n",
    "%load_ext autoreload\n",
    "%autoreload 2"
   ]
  },
  {
   "cell_type": "markdown",
   "metadata": {},
   "source": [
    "# Solar\n",
    "\n",
    "> Access data and analysis services that provide access to solar resource data and NREL models using a python API."
   ]
  },
  {
   "cell_type": "markdown",
   "metadata": {},
   "source": [
    "> NOTE: In order to use the NREL developer API, you will need an API key from NREL. You can get one [here](https://developer.nrel.gov/signup/). The process is simple and only requires your name and email where you will receive the API key. "
   ]
  },
  {
   "cell_type": "code",
   "execution_count": null,
   "metadata": {},
   "outputs": [],
   "source": [
    "#hide\n",
    "from nbdev.showdoc import *"
   ]
  },
  {
   "cell_type": "markdown",
   "metadata": {},
   "source": [
    "# SolarResourceData"
   ]
  },
  {
   "cell_type": "code",
   "execution_count": null,
   "metadata": {},
   "outputs": [],
   "source": [
    "#export\n",
    "from nrel_dev_api.core import _GetPostRequest\n",
    "\n",
    "# TODO - add attributes in docstring, add checks for data inputs\n",
    "class SolarResourceData(_GetPostRequest):\n",
    "    \"\"\"Returns various types of solar data for a location as a dictionary. \n",
    "    The service from NREL currently returns data for \n",
    "    average Direct Normal Irradiance, average Global Horizontal Irradiance, \n",
    "    and average Tilt at Latitude.\n",
    "    \n",
    "    Attributes:\n",
    "        api_key: NREL Developer API key (https://developer.nrel.gov/signup/).\n",
    "        lat: Latitude of the location.\n",
    "        lon: Longitude of the location.\n",
    "        address: Address of the location to use. Required if lat/lon not specified.\n",
    "    \"\"\"\n",
    "    \n",
    "    QUERY_URL = \"/api/solar/solar_resource/v1.json\"\n",
    "    \n",
    "    def __init__(self, api_key, lat=None, lon=None, address=None):\n",
    "        \n",
    "        super().__init__()\n",
    "        \n",
    "        self._params.update({\"api_key\": api_key})\n",
    "        \n",
    "        # if address is not specified latitude and longitude must be specified\n",
    "        if not address:\n",
    "            self._params.update({\"lat\" : lat, \"lon\" : lon})\n",
    "        else:\n",
    "            self._params.update({\"address\": address})\n",
    "            \n",
    "        # complete response as a dict\n",
    "        self.response = self._get()\n",
    "        \n",
    "        # only the outputs\n",
    "        self.outputs = self.response[\"outputs\"]\n",
    "        \n",
    "        # get the inputs provided\n",
    "        self.inputs = self.response[\"inputs\"]"
   ]
  },
  {
   "cell_type": "markdown",
   "metadata": {},
   "source": [
    "An example to get solar resource data - average Direct Normal Irradiance, average Global Horizontal Irradiance, and average tilt - from NREL"
   ]
  },
  {
   "cell_type": "code",
   "execution_count": null,
   "metadata": {},
   "outputs": [],
   "source": [
    "#hide\n",
    "NREL_API_KEY = \"DEMO_KEY\""
   ]
  },
  {
   "cell_type": "code",
   "execution_count": null,
   "metadata": {},
   "outputs": [],
   "source": [
    "solar_resource_data = SolarResourceData(api_key=NREL_API_KEY, lat=40, lon=-105)"
   ]
  },
  {
   "cell_type": "markdown",
   "metadata": {},
   "source": [
    "Outputs for solar resource data"
   ]
  },
  {
   "cell_type": "code",
   "execution_count": null,
   "metadata": {},
   "outputs": [
    {
     "data": {
      "text/plain": [
       "{'avg_dni': {'annual': 6.06,\n",
       "  'monthly': {'jan': 5.0,\n",
       "   'feb': 5.34,\n",
       "   'mar': 5.94,\n",
       "   'apr': 6.11,\n",
       "   'may': 6.36,\n",
       "   'jun': 7.43,\n",
       "   'jul': 7.48,\n",
       "   'aug': 6.65,\n",
       "   'sep': 6.81,\n",
       "   'oct': 5.82,\n",
       "   'nov': 5.11,\n",
       "   'dec': 4.67}},\n",
       " 'avg_ghi': {'annual': 4.81,\n",
       "  'monthly': {'jan': 2.5,\n",
       "   'feb': 3.43,\n",
       "   'mar': 4.69,\n",
       "   'apr': 5.69,\n",
       "   'may': 6.6,\n",
       "   'jun': 7.25,\n",
       "   'jul': 7.14,\n",
       "   'aug': 6.24,\n",
       "   'sep': 5.35,\n",
       "   'oct': 3.85,\n",
       "   'nov': 2.75,\n",
       "   'dec': 2.19}},\n",
       " 'avg_lat_tilt': {'annual': 5.82,\n",
       "  'monthly': {'jan': 4.79,\n",
       "   'feb': 5.4,\n",
       "   'mar': 6.07,\n",
       "   'apr': 6.11,\n",
       "   'may': 6.25,\n",
       "   'jun': 6.47,\n",
       "   'jul': 6.58,\n",
       "   'aug': 6.44,\n",
       "   'sep': 6.53,\n",
       "   'oct': 5.71,\n",
       "   'nov': 4.99,\n",
       "   'dec': 4.47}}}"
      ]
     },
     "execution_count": null,
     "metadata": {},
     "output_type": "execute_result"
    }
   ],
   "source": [
    "solar_resource_data.outputs"
   ]
  },
  {
   "cell_type": "markdown",
   "metadata": {},
   "source": [
    "Use address to access the solar resource data"
   ]
  },
  {
   "cell_type": "code",
   "execution_count": null,
   "metadata": {},
   "outputs": [],
   "source": [
    "address = \"Seattle, WA\"\n",
    "\n",
    "solar_resource_data = SolarResourceData(api_key=NREL_API_KEY, address=address)"
   ]
  },
  {
   "cell_type": "markdown",
   "metadata": {},
   "source": [
    "Get the complete response as a dictionary"
   ]
  },
  {
   "cell_type": "code",
   "execution_count": null,
   "metadata": {},
   "outputs": [
    {
     "data": {
      "text/plain": [
       "{'version': '1.0.0',\n",
       " 'warnings': [],\n",
       " 'errors': [],\n",
       " 'metadata': {'sources': ['Perez-SUNY/NREL, 2012']},\n",
       " 'inputs': {'address': 'Seattle, WA'},\n",
       " 'outputs': {'avg_dni': {'annual': 3.5,\n",
       "   'monthly': {'jan': 1.19,\n",
       "    'feb': 2.73,\n",
       "    'mar': 2.16,\n",
       "    'apr': 3.76,\n",
       "    'may': 4.21,\n",
       "    'jun': 5.14,\n",
       "    'jul': 6.66,\n",
       "    'aug': 5.97,\n",
       "    'sep': 5.12,\n",
       "    'oct': 2.51,\n",
       "    'nov': 1.34,\n",
       "    'dec': 1.21}},\n",
       "  'avg_ghi': {'annual': 3.46,\n",
       "   'monthly': {'jan': 0.98,\n",
       "    'feb': 1.94,\n",
       "    'mar': 2.75,\n",
       "    'apr': 4.51,\n",
       "    'may': 5.34,\n",
       "    'jun': 5.99,\n",
       "    'jul': 6.38,\n",
       "    'aug': 5.48,\n",
       "    'sep': 4.03,\n",
       "    'oct': 2.11,\n",
       "    'nov': 1.12,\n",
       "    'dec': 0.84}},\n",
       "  'avg_lat_tilt': {'annual': 3.98,\n",
       "   'monthly': {'jan': 1.73,\n",
       "    'feb': 3.25,\n",
       "    'mar': 3.43,\n",
       "    'apr': 4.95,\n",
       "    'may': 5.13,\n",
       "    'jun': 5.43,\n",
       "    'jul': 5.98,\n",
       "    'aug': 5.87,\n",
       "    'sep': 5.23,\n",
       "    'oct': 3.18,\n",
       "    'nov': 1.91,\n",
       "    'dec': 1.65}}}}"
      ]
     },
     "execution_count": null,
     "metadata": {},
     "output_type": "execute_result"
    }
   ],
   "source": [
    "solar_resource_data.response"
   ]
  },
  {
   "cell_type": "markdown",
   "metadata": {},
   "source": [
    "Complete response."
   ]
  },
  {
   "cell_type": "markdown",
   "metadata": {},
   "source": [
    "# PVWatts V6"
   ]
  },
  {
   "cell_type": "code",
   "execution_count": null,
   "metadata": {},
   "outputs": [],
   "source": [
    "#export\n",
    "\n",
    "# TODO - add attributes in docstring, add checks for data inputs\n",
    "class PVWattsV6(_GetPostRequest):\n",
    "    \"\"\"Estimate the energy production of grid-connected photovoltaic (PV) energy systems\n",
    "    using NREL's PVWatts API based on a few simple inputs.\n",
    "    \"\"\"\n",
    "    \n",
    "    QUERY_URL = \"/api/pvwatts/v6.json\"\n",
    "    \n",
    "    def __init__(self,\n",
    "                 api_key,\n",
    "                 system_capacity,\n",
    "                 module_type,\n",
    "                 losses,\n",
    "                 array_type,\n",
    "                 tilt,\n",
    "                 azimuth,\n",
    "                 lat=None,\n",
    "                 lon=None,\n",
    "                 address=None,\n",
    "                 file_id=None,\n",
    "                 dataset=\"nsrdb\",\n",
    "                 radius=100,\n",
    "                 timeframe=\"monthly\",\n",
    "                 dc_ac_ratio=1.2,\n",
    "                 gcr=0.4,\n",
    "                 inv_eff=96,\n",
    "                ):\n",
    "        \n",
    "        super().__init__()\n",
    "        \n",
    "        self._params.update({\n",
    "            \"api_key\" : api_key,\n",
    "            \"system_capacity\" : system_capacity,\n",
    "            \"module_type\" : module_type,\n",
    "            \"losses\" : losses,\n",
    "            \"array_type\" : array_type,\n",
    "            \"tilt\" : tilt,\n",
    "            \"azimuth\" : azimuth,\n",
    "        })\n",
    "        \n",
    "        # only one of lat/lon, file_id, address needs to be specified\n",
    "        if not address and not file_id:\n",
    "            self._params.update({\"lat\" : lat, \"lon\" : lon})\n",
    "        \n",
    "        if not file_id and not lat and not lon:\n",
    "            self._params.update({\"address\" : address})\n",
    "            \n",
    "        if not address and not lat and lon:\n",
    "            self._params.update({\"file_id\" : file_id})\n",
    "        \n",
    "        # if file_id is specified, dataset info is not required\n",
    "        if not file_id:\n",
    "            self._params.update({\"dataset\" : dataset})\n",
    "        \n",
    "        self._params.update({\n",
    "            \"radius\" : radius,\n",
    "            \"timeframe\" : timeframe,\n",
    "            \"dc_ac_ratio\" : dc_ac_ratio,\n",
    "            \"gcr\" : gcr,\n",
    "            \"inv_eff\" : inv_eff\n",
    "        })\n",
    "        \n",
    "        # get the complete response\n",
    "        self.response = self._get()\n",
    "        \n",
    "        # only the outputs category\n",
    "        self.outputs = self.response[\"outputs\"]\n",
    "        \n",
    "        # station info for the specified lat/lon\n",
    "        self.station_info = self.response[\"station_info\"]\n",
    "        \n",
    "        # get the inputs provided\n",
    "        self.inputs = self.response[\"inputs\"]"
   ]
  },
  {
   "cell_type": "markdown",
   "metadata": {},
   "source": [
    "Example to use PVWattsV6 for a given set of location and system inputs."
   ]
  },
  {
   "cell_type": "code",
   "execution_count": null,
   "metadata": {},
   "outputs": [],
   "source": [
    "pvwatts_v6 = PVWattsV6(api_key=NREL_API_KEY,\n",
    "                       system_capacity=4,\n",
    "                       lat=40,\n",
    "                       lon=-105,\n",
    "                       azimuth=180,\n",
    "                       tilt=40,\n",
    "                       array_type=1,\n",
    "                       module_type=1,\n",
    "                       losses=10\n",
    "                      )"
   ]
  },
  {
   "cell_type": "markdown",
   "metadata": {},
   "source": [
    "Output from PVWatts"
   ]
  },
  {
   "cell_type": "code",
   "execution_count": null,
   "metadata": {},
   "outputs": [
    {
     "data": {
      "text/plain": [
       "{'ac_monthly': [474.4326171875,\n",
       "  484.3903503417969,\n",
       "  595.7704467773438,\n",
       "  592.0599365234375,\n",
       "  591.2662353515625,\n",
       "  589.3538208007812,\n",
       "  583.2352905273438,\n",
       "  586.4593505859375,\n",
       "  584.8131713867188,\n",
       "  561.72314453125,\n",
       "  486.1260375976562,\n",
       "  445.6881713867188],\n",
       " 'poa_monthly': [141.4809417724609,\n",
       "  145.5711975097656,\n",
       "  184.7876434326172,\n",
       "  181.5513763427734,\n",
       "  186.4280853271484,\n",
       "  190.5132904052734,\n",
       "  188.7499694824219,\n",
       "  190.5398101806641,\n",
       "  188.2213134765625,\n",
       "  175.4444122314453,\n",
       "  146.3170471191406,\n",
       "  131.1568298339844],\n",
       " 'solrad_monthly': [4.563901424407959,\n",
       "  5.198971271514893,\n",
       "  5.960891723632812,\n",
       "  6.051712512969971,\n",
       "  6.013809204101562,\n",
       "  6.350442886352539,\n",
       "  6.088708877563477,\n",
       "  6.146445274353027,\n",
       "  6.274043560028076,\n",
       "  5.659497261047363,\n",
       "  4.877234935760498,\n",
       "  4.230865478515625],\n",
       " 'dc_monthly': [497.9421081542969,\n",
       "  511.1524963378906,\n",
       "  634.3223266601562,\n",
       "  623.7313842773438,\n",
       "  617.8812866210938,\n",
       "  615.4278564453125,\n",
       "  609.3965454101562,\n",
       "  612.7506713867188,\n",
       "  610.5584106445312,\n",
       "  588.6157836914062,\n",
       "  508.0747680664062,\n",
       "  465.4272155761719],\n",
       " 'ac_annual': 6575.31884765625,\n",
       " 'solrad_annual': 5.618043899536133,\n",
       " 'capacity_factor': 18.76517868041992}"
      ]
     },
     "execution_count": null,
     "metadata": {},
     "output_type": "execute_result"
    }
   ],
   "source": [
    "pvwatts_v6.outputs"
   ]
  },
  {
   "cell_type": "markdown",
   "metadata": {},
   "source": [
    "Station info for the latitude/longitude specified"
   ]
  },
  {
   "cell_type": "code",
   "execution_count": null,
   "metadata": {},
   "outputs": [
    {
     "data": {
      "text/plain": [
       "{'lat': 40.0099983215332,\n",
       " 'lon': -105.0199966430664,\n",
       " 'elev': 1581.839965820312,\n",
       " 'tz': -7.0,\n",
       " 'location': 'None',\n",
       " 'city': '',\n",
       " 'state': 'Colorado',\n",
       " 'solar_resource_file': 'W10502N4001.csv',\n",
       " 'distance': 2029}"
      ]
     },
     "execution_count": null,
     "metadata": {},
     "output_type": "execute_result"
    }
   ],
   "source": [
    "pvwatts_v6.station_info"
   ]
  },
  {
   "cell_type": "markdown",
   "metadata": {},
   "source": [
    "Get the complete response"
   ]
  },
  {
   "cell_type": "code",
   "execution_count": null,
   "metadata": {},
   "outputs": [
    {
     "data": {
      "text/plain": [
       "{'inputs': {'system_capacity': '4',\n",
       "  'module_type': '1',\n",
       "  'losses': '10',\n",
       "  'array_type': '1',\n",
       "  'tilt': '40',\n",
       "  'azimuth': '180',\n",
       "  'lat': '40',\n",
       "  'lon': '-105',\n",
       "  'dataset': 'nsrdb',\n",
       "  'radius': '100',\n",
       "  'timeframe': 'monthly',\n",
       "  'dc_ac_ratio': '1.2',\n",
       "  'gcr': '0.4',\n",
       "  'inv_eff': '96'},\n",
       " 'errors': [],\n",
       " 'warnings': [],\n",
       " 'version': '1.0.2',\n",
       " 'ssc_info': {'version': 45,\n",
       "  'build': 'Linux 64 bit GNU/C++ Jul  7 2015 14:24:09'},\n",
       " 'station_info': {'lat': 40.0099983215332,\n",
       "  'lon': -105.0199966430664,\n",
       "  'elev': 1581.839965820312,\n",
       "  'tz': -7.0,\n",
       "  'location': 'None',\n",
       "  'city': '',\n",
       "  'state': 'Colorado',\n",
       "  'solar_resource_file': 'W10502N4001.csv',\n",
       "  'distance': 2029},\n",
       " 'outputs': {'ac_monthly': [474.4326171875,\n",
       "   484.3903503417969,\n",
       "   595.7704467773438,\n",
       "   592.0599365234375,\n",
       "   591.2662353515625,\n",
       "   589.3538208007812,\n",
       "   583.2352905273438,\n",
       "   586.4593505859375,\n",
       "   584.8131713867188,\n",
       "   561.72314453125,\n",
       "   486.1260375976562,\n",
       "   445.6881713867188],\n",
       "  'poa_monthly': [141.4809417724609,\n",
       "   145.5711975097656,\n",
       "   184.7876434326172,\n",
       "   181.5513763427734,\n",
       "   186.4280853271484,\n",
       "   190.5132904052734,\n",
       "   188.7499694824219,\n",
       "   190.5398101806641,\n",
       "   188.2213134765625,\n",
       "   175.4444122314453,\n",
       "   146.3170471191406,\n",
       "   131.1568298339844],\n",
       "  'solrad_monthly': [4.563901424407959,\n",
       "   5.198971271514893,\n",
       "   5.960891723632812,\n",
       "   6.051712512969971,\n",
       "   6.013809204101562,\n",
       "   6.350442886352539,\n",
       "   6.088708877563477,\n",
       "   6.146445274353027,\n",
       "   6.274043560028076,\n",
       "   5.659497261047363,\n",
       "   4.877234935760498,\n",
       "   4.230865478515625],\n",
       "  'dc_monthly': [497.9421081542969,\n",
       "   511.1524963378906,\n",
       "   634.3223266601562,\n",
       "   623.7313842773438,\n",
       "   617.8812866210938,\n",
       "   615.4278564453125,\n",
       "   609.3965454101562,\n",
       "   612.7506713867188,\n",
       "   610.5584106445312,\n",
       "   588.6157836914062,\n",
       "   508.0747680664062,\n",
       "   465.4272155761719],\n",
       "  'ac_annual': 6575.31884765625,\n",
       "  'solrad_annual': 5.618043899536133,\n",
       "  'capacity_factor': 18.76517868041992}}"
      ]
     },
     "execution_count": null,
     "metadata": {},
     "output_type": "execute_result"
    }
   ],
   "source": [
    "pvwatts_v6.response"
   ]
  },
  {
   "cell_type": "markdown",
   "metadata": {},
   "source": [
    "# SolarDatasetQuery"
   ]
  },
  {
   "cell_type": "code",
   "execution_count": null,
   "metadata": {},
   "outputs": [],
   "source": [
    "#export\n",
    "\n",
    "# TODO - add attributes in docstring, add checks for data inputs\n",
    "class SolarDatasetQuery(_GetPostRequest):\n",
    "    \n",
    "    \"\"\"Returns information on the closest climate data for a location.\n",
    "    \"\"\"\n",
    "    \n",
    "    QUERY_URL = \"/api/solar/data_query/v1.json\"\n",
    "    \n",
    "    def __init__(self,\n",
    "                 api_key,\n",
    "                 lat=None,\n",
    "                 lon=None,\n",
    "                 address=None,\n",
    "                 radius=100,\n",
    "                 return_all_stations=False,\n",
    "                ):\n",
    "        \n",
    "        super().__init__()\n",
    "        \n",
    "        self._params.update({\n",
    "            \"api_key\" : api_key,\n",
    "            \"radius\" : radius,\n",
    "            \"all\" : 0 if return_all_stations is False else 1,\n",
    "        })\n",
    "        \n",
    "        # if address is not specified latitude and longitude must be specified\n",
    "        if not address:\n",
    "            self._params.update({\"lat\" : lat, \"lon\" : lon})\n",
    "        else:\n",
    "            self._params.update({\"address\": address})\n",
    "        \n",
    "        self.response = self._get()\n",
    "        \n",
    "        # only outputs\n",
    "        self.outputs = self.response[\"outputs\"]\n",
    "        \n",
    "        # get the inputs provided\n",
    "        self.inputs = self.response[\"inputs\"]"
   ]
  },
  {
   "cell_type": "markdown",
   "metadata": {},
   "source": [
    "Information on climate data for the location closest to the specified one."
   ]
  },
  {
   "cell_type": "code",
   "execution_count": null,
   "metadata": {},
   "outputs": [],
   "source": [
    "solar_dataset_query = SolarDatasetQuery(api_key=NREL_API_KEY,\n",
    "                                        lat=40,\n",
    "                                        lon=-105,\n",
    "                                       )"
   ]
  },
  {
   "cell_type": "markdown",
   "metadata": {},
   "source": [
    "Outputs for the solar dataset"
   ]
  },
  {
   "cell_type": "code",
   "execution_count": null,
   "metadata": {},
   "outputs": [
    {
     "data": {
      "text/plain": [
       "{'tmy2': {'id': '0-94018',\n",
       "  'city': 'BOULDER',\n",
       "  'state': 'COLORADO',\n",
       "  'timezone': -7,\n",
       "  'lat': 40.13,\n",
       "  'lon': -105.24,\n",
       "  'elevation': 1689,\n",
       "  'distance': 24977},\n",
       " 'tmy3': {'id': '1-724699',\n",
       "  'city': 'BROOMFIELD/JEFFCO [BOULDER - SURFRAD]',\n",
       "  'state': 'COLORADO',\n",
       "  'timezone': -7,\n",
       "  'lat': 40.13,\n",
       "  'lon': -105.24,\n",
       "  'elevation': 1689,\n",
       "  'distance': 24977},\n",
       " 'intl': None,\n",
       " 'nsrdb': {'id': '3-W105N040-W10502N4001',\n",
       "  'city': '',\n",
       "  'state': 'Colorado',\n",
       "  'country': None,\n",
       "  'lat': 40.01,\n",
       "  'lon': -105.02,\n",
       "  'distance': 2029,\n",
       "  'timezone': -7,\n",
       "  'elevation': 1582,\n",
       "  'resolution': 4}}"
      ]
     },
     "execution_count": null,
     "metadata": {},
     "output_type": "execute_result"
    }
   ],
   "source": [
    "solar_dataset_query.outputs"
   ]
  },
  {
   "cell_type": "markdown",
   "metadata": {},
   "source": [
    "Get information about all the stations within a specified radius"
   ]
  },
  {
   "cell_type": "code",
   "execution_count": null,
   "metadata": {},
   "outputs": [
    {
     "name": "stderr",
     "output_type": "stream",
     "text": [
      "/Users/stlp/Documents/Github/nrel_dev_api/nrel_dev_api/core.py:30: UserWarning: ['No intl data found for lat=40.0 lon=-105.0']\n",
      "  warnings.warn(message=content[\"warnings\"], category=UserWarning)\n"
     ]
    },
    {
     "data": {
      "text/plain": [
       "{'tmy2': {'id': '0-94018',\n",
       "  'city': 'BOULDER',\n",
       "  'state': 'COLORADO',\n",
       "  'timezone': -7,\n",
       "  'lat': 40.13,\n",
       "  'lon': -105.24,\n",
       "  'elevation': 1689,\n",
       "  'distance': 24977},\n",
       " 'tmy3': {'id': '1-724699',\n",
       "  'city': 'BROOMFIELD/JEFFCO [BOULDER - SURFRAD]',\n",
       "  'state': 'COLORADO',\n",
       "  'timezone': -7,\n",
       "  'lat': 40.13,\n",
       "  'lon': -105.24,\n",
       "  'elevation': 1689,\n",
       "  'distance': 24977},\n",
       " 'intl': None,\n",
       " 'nsrdb': {'id': '3-W105N040-W10502N4001',\n",
       "  'city': '',\n",
       "  'state': 'Colorado',\n",
       "  'country': None,\n",
       "  'lat': 40.01,\n",
       "  'lon': -105.02,\n",
       "  'distance': 2029,\n",
       "  'timezone': -7,\n",
       "  'elevation': 1582,\n",
       "  'resolution': 4},\n",
       " 'all_stations': [{'id': '3-W105N040-W10502N4001',\n",
       "   'city': '',\n",
       "   'state': 'Colorado',\n",
       "   'country': None,\n",
       "   'lat': 40.01,\n",
       "   'lon': -105.02,\n",
       "   'distance': 2029,\n",
       "   'timezone': -7,\n",
       "   'elevation': 1582,\n",
       "   'resolution': 4,\n",
       "   'dataset': 'nsrdb'},\n",
       "  {'id': '0-94018',\n",
       "   'city': 'BOULDER',\n",
       "   'state': 'COLORADO',\n",
       "   'timezone': -7,\n",
       "   'lat': 40.13,\n",
       "   'lon': -105.24,\n",
       "   'elevation': 1689,\n",
       "   'distance': 24977,\n",
       "   'dataset': 'tmy2'},\n",
       "  {'id': '1-724699',\n",
       "   'city': 'BROOMFIELD/JEFFCO [BOULDER - SURFRAD]',\n",
       "   'state': 'COLORADO',\n",
       "   'timezone': -7,\n",
       "   'lat': 40.13,\n",
       "   'lon': -105.24,\n",
       "   'elevation': 1689,\n",
       "   'distance': 24977,\n",
       "   'dataset': 'tmy3'},\n",
       "  {'id': '1-724666',\n",
       "   'city': 'DENVER/CENTENNIAL [GOLDEN - NREL]',\n",
       "   'state': 'COLORADO',\n",
       "   'timezone': -7,\n",
       "   'lat': 39.742,\n",
       "   'lon': -105.179,\n",
       "   'elevation': 1829,\n",
       "   'distance': 32650,\n",
       "   'dataset': 'tmy3'},\n",
       "  {'id': '1-725650',\n",
       "   'city': 'DENVER INTL AP',\n",
       "   'state': 'COLORADO',\n",
       "   'timezone': -7,\n",
       "   'lat': 39.833,\n",
       "   'lon': -104.65,\n",
       "   'elevation': 1650,\n",
       "   'distance': 35063,\n",
       "   'dataset': 'tmy3'},\n",
       "  {'id': '1-724695',\n",
       "   'city': 'AURORA BUCKLEY FIELD ANGB',\n",
       "   'state': 'COLORADO',\n",
       "   'timezone': -7,\n",
       "   'lat': 39.717,\n",
       "   'lon': -104.75,\n",
       "   'elevation': 1726,\n",
       "   'distance': 38143,\n",
       "   'dataset': 'tmy3'},\n",
       "  {'id': '1-724769',\n",
       "   'city': 'FORT COLLINS (AWOS)',\n",
       "   'state': 'COLORADO',\n",
       "   'timezone': -7,\n",
       "   'lat': 40.45,\n",
       "   'lon': -105.017,\n",
       "   'elevation': 1529,\n",
       "   'distance': 50435,\n",
       "   'dataset': 'tmy3'},\n",
       "  {'id': '1-724768',\n",
       "   'city': 'GREELEY/WELD (AWOS)',\n",
       "   'state': 'COLORADO',\n",
       "   'timezone': -7,\n",
       "   'lat': 40.433,\n",
       "   'lon': -104.633,\n",
       "   'elevation': 1420,\n",
       "   'distance': 57549,\n",
       "   'dataset': 'tmy3'},\n",
       "  {'id': '0-24018',\n",
       "   'city': 'CHEYENNE',\n",
       "   'state': 'WYOMING',\n",
       "   'timezone': -7,\n",
       "   'lat': 41.15,\n",
       "   'lon': -104.8,\n",
       "   'elevation': 1867,\n",
       "   'distance': 129897,\n",
       "   'dataset': 'tmy2'},\n",
       "  {'id': '1-725640',\n",
       "   'city': 'CHEYENNE MUNICIPAL ARPT',\n",
       "   'state': 'WYOMING',\n",
       "   'timezone': -7,\n",
       "   'lat': 41.15,\n",
       "   'lon': -104.8,\n",
       "   'elevation': 1867,\n",
       "   'distance': 129897,\n",
       "   'dataset': 'tmy3'},\n",
       "  {'id': '0-93037',\n",
       "   'city': 'COLORADO SPRINGS',\n",
       "   'state': 'COLORADO',\n",
       "   'timezone': -7,\n",
       "   'lat': 38.817,\n",
       "   'lon': -104.717,\n",
       "   'elevation': 1872,\n",
       "   'distance': 134759,\n",
       "   'dataset': 'tmy2'},\n",
       "  {'id': '1-724660',\n",
       "   'city': 'COLORADO SPRINGS MUNI AP',\n",
       "   'state': 'COLORADO',\n",
       "   'timezone': -7,\n",
       "   'lat': 38.817,\n",
       "   'lon': -104.717,\n",
       "   'elevation': 1872,\n",
       "   'distance': 134759,\n",
       "   'dataset': 'tmy3'},\n",
       "  {'id': '1-724673',\n",
       "   'city': 'LEADVILLE/LAKE CO.',\n",
       "   'state': 'COLORADO',\n",
       "   'timezone': -7,\n",
       "   'lat': 39.217,\n",
       "   'lon': -106.317,\n",
       "   'elevation': 3026,\n",
       "   'distance': 142321,\n",
       "   'dataset': 'tmy3'},\n",
       "  {'id': '1-724665',\n",
       "   'city': 'LIMON',\n",
       "   'state': 'COLORADO',\n",
       "   'timezone': -7,\n",
       "   'lat': 39.183,\n",
       "   'lon': -103.717,\n",
       "   'elevation': 1695,\n",
       "   'distance': 142493,\n",
       "   'dataset': 'tmy3'},\n",
       "  {'id': '1-724698',\n",
       "   'city': 'AKRON WASHINGTON CO AP',\n",
       "   'state': 'COLORADO',\n",
       "   'timezone': -7,\n",
       "   'lat': 40.167,\n",
       "   'lon': -103.233,\n",
       "   'elevation': 1421,\n",
       "   'distance': 150519,\n",
       "   'dataset': 'tmy3'},\n",
       "  {'id': '1-725645',\n",
       "   'city': 'LARAMIE GENERAL BREES FIELD',\n",
       "   'state': 'WYOMING',\n",
       "   'timezone': -7,\n",
       "   'lat': 41.317,\n",
       "   'lon': -105.683,\n",
       "   'elevation': 2215,\n",
       "   'distance': 158230,\n",
       "   'dataset': 'tmy3'}]}"
      ]
     },
     "execution_count": null,
     "metadata": {},
     "output_type": "execute_result"
    }
   ],
   "source": [
    "solar_dataset_query = SolarDatasetQuery(api_key=NREL_API_KEY,\n",
    "                                        lat=40,\n",
    "                                        lon=-105,\n",
    "                                        radius=100,\n",
    "                                        return_all_stations=True\n",
    "                                       )\n",
    "\n",
    "solar_dataset_query.outputs"
   ]
  },
  {
   "cell_type": "code",
   "execution_count": null,
   "metadata": {},
   "outputs": [],
   "source": []
  }
 ],
 "metadata": {
  "kernelspec": {
   "display_name": "Python [conda env:nrel-dev-api]",
   "language": "python",
   "name": "conda-env-nrel-dev-api-py"
  }
 },
 "nbformat": 4,
 "nbformat_minor": 4
}
