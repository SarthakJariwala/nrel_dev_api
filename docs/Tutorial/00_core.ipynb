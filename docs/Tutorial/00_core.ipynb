{
 "cells": [
  {
   "cell_type": "markdown",
   "source": [
    "Globally set your NREL Developer API key. "
   ],
   "metadata": {}
  },
  {
   "cell_type": "markdown",
   "source": [
    "## Set API Key\n",
    "\n",
    "Set NREL developer API key."
   ],
   "metadata": {}
  },
  {
   "cell_type": "code",
   "execution_count": 19,
   "source": [
    "import os\n",
    "from nrel_dev_api import set_nrel_api_key\n",
    "\n",
    "NREL_API_KEY = os.environ[\"NREL_API_KEY\"]\n",
    "\n",
    "set_nrel_api_key(NREL_API_KEY)"
   ],
   "outputs": [],
   "metadata": {}
  }
 ],
 "metadata": {
  "kernelspec": {
   "display_name": "Python [conda env:nrel-dev-api]",
   "language": "python",
   "name": "conda-env-nrel-dev-api-py"
  },
  "language_info": {
   "codemirror_mode": {
    "name": "ipython",
    "version": 3
   },
   "file_extension": ".py",
   "mimetype": "text/x-python",
   "name": "python",
   "nbconvert_exporter": "python",
   "pygments_lexer": "ipython3",
   "version": "3.8.8"
  }
 },
 "nbformat": 4,
 "nbformat_minor": 4
}