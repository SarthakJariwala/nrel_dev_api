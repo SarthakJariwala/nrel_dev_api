{
 "cells": [
  {
   "cell_type": "code",
   "execution_count": null,
   "metadata": {},
   "outputs": [],
   "source": [
    "# default_exp solar.pvwatts_v6"
   ]
  },
  {
   "cell_type": "code",
   "execution_count": null,
   "metadata": {},
   "outputs": [],
   "source": [
    "#hide\n",
    "%load_ext autoreload\n",
    "%autoreload 2"
   ]
  },
  {
   "cell_type": "code",
   "execution_count": null,
   "metadata": {},
   "outputs": [],
   "source": [
    "#hide\n",
    "from nbdev.showdoc import *"
   ]
  },
  {
   "cell_type": "markdown",
   "metadata": {},
   "source": [
    "# PVWatts V6\n",
    "\n",
    "> Estimate the energy production of grid-connected photovoltaic (PV) energy systems using NREL's PVWatts API based on a few simple inputs."
   ]
  },
  {
   "cell_type": "code",
   "execution_count": null,
   "metadata": {},
   "outputs": [],
   "source": [
    "#export\n",
    "from nrel_dev_api._core import _GetPostRequest\n",
    "\n",
    "# TODO - add attributes in docstring, add checks for data inputs\n",
    "class PVWattsV6(_GetPostRequest):\n",
    "    \"\"\"Estimate the energy production of grid-connected photovoltaic (PV) energy systems\n",
    "    using NREL's PVWatts API based on a few simple inputs.\n",
    "    \"\"\"\n",
    "    \n",
    "    QUERY_URL = \"/api/pvwatts/v6.json\"\n",
    "    \n",
    "    def __init__(self,\n",
    "                 api_key,\n",
    "                 system_capacity,\n",
    "                 module_type,\n",
    "                 losses,\n",
    "                 array_type,\n",
    "                 tilt,\n",
    "                 azimuth,\n",
    "                 lat=None,\n",
    "                 lon=None,\n",
    "                 address=None,\n",
    "                 file_id=None,\n",
    "                 dataset=\"nsrdb\",\n",
    "                 radius=100,\n",
    "                 timeframe=\"monthly\",\n",
    "                 dc_ac_ratio=1.2,\n",
    "                 gcr=0.4,\n",
    "                 inv_eff=96,\n",
    "                ):\n",
    "        \n",
    "        super().__init__()\n",
    "        \n",
    "        self._params.update({\n",
    "            \"api_key\" : api_key,\n",
    "            \"system_capacity\" : system_capacity,\n",
    "            \"module_type\" : module_type,\n",
    "            \"losses\" : losses,\n",
    "            \"array_type\" : array_type,\n",
    "            \"tilt\" : tilt,\n",
    "            \"azimuth\" : azimuth,\n",
    "        })\n",
    "        \n",
    "        # only one of lat/lon, file_id, address needs to be specified\n",
    "        if not address and not file_id:\n",
    "            self._params.update({\"lat\" : lat, \"lon\" : lon})\n",
    "        \n",
    "        if not file_id and not lat and not lon:\n",
    "            self._params.update({\"address\" : address})\n",
    "            \n",
    "        if not address and not lat and lon:\n",
    "            self._params.update({\"file_id\" : file_id})\n",
    "        \n",
    "        # if file_id is specified, dataset info is not required\n",
    "        if not file_id:\n",
    "            self._params.update({\"dataset\" : dataset})\n",
    "        \n",
    "        self._params.update({\n",
    "            \"radius\" : radius,\n",
    "            \"timeframe\" : timeframe,\n",
    "            \"dc_ac_ratio\" : dc_ac_ratio,\n",
    "            \"gcr\" : gcr,\n",
    "            \"inv_eff\" : inv_eff\n",
    "        })\n",
    "        \n",
    "        # get the complete response\n",
    "        self.response = self._get()\n",
    "        \n",
    "        # only the outputs category\n",
    "        self.outputs = self.response[\"outputs\"]\n",
    "        \n",
    "        # station info for the specified lat/lon\n",
    "        self.station_info = self.response[\"station_info\"]\n",
    "        \n",
    "        # get the inputs provided\n",
    "        self.inputs = self.response[\"inputs\"]"
   ]
  },
  {
   "cell_type": "code",
   "execution_count": null,
   "metadata": {},
   "outputs": [],
   "source": [
    "#hide\n",
    "NREL_API_KEY = \"DEMO_KEY\""
   ]
  },
  {
   "cell_type": "markdown",
   "metadata": {},
   "source": [
    "Example to use PVWattsV6 for a given set of location and system inputs."
   ]
  },
  {
   "cell_type": "code",
   "execution_count": null,
   "metadata": {},
   "outputs": [],
   "source": [
    "pvwatts_v6 = PVWattsV6(api_key=NREL_API_KEY,\n",
    "                       system_capacity=4,\n",
    "                       lat=40,\n",
    "                       lon=-105,\n",
    "                       azimuth=180,\n",
    "                       tilt=40,\n",
    "                       array_type=1,\n",
    "                       module_type=1,\n",
    "                       losses=10\n",
    "                      )"
   ]
  },
  {
   "cell_type": "markdown",
   "metadata": {},
   "source": [
    "Monthly and annual outputs from PVWatts"
   ]
  },
  {
   "cell_type": "code",
   "execution_count": null,
   "metadata": {},
   "outputs": [
    {
     "data": {
      "text/plain": [
       "{'ac_monthly': [474.4326171875,\n",
       "  484.3903503417969,\n",
       "  595.7704467773438,\n",
       "  592.0599365234375,\n",
       "  591.2662353515625,\n",
       "  589.3538208007812,\n",
       "  583.2352905273438,\n",
       "  586.4593505859375,\n",
       "  584.8131713867188,\n",
       "  561.72314453125,\n",
       "  486.1260375976562,\n",
       "  445.6881713867188],\n",
       " 'poa_monthly': [141.4809417724609,\n",
       "  145.5711975097656,\n",
       "  184.7876434326172,\n",
       "  181.5513763427734,\n",
       "  186.4280853271484,\n",
       "  190.5132904052734,\n",
       "  188.7499694824219,\n",
       "  190.5398101806641,\n",
       "  188.2213134765625,\n",
       "  175.4444122314453,\n",
       "  146.3170471191406,\n",
       "  131.1568298339844],\n",
       " 'solrad_monthly': [4.563901424407959,\n",
       "  5.198971271514893,\n",
       "  5.960891723632812,\n",
       "  6.051712512969971,\n",
       "  6.013809204101562,\n",
       "  6.350442886352539,\n",
       "  6.088708877563477,\n",
       "  6.146445274353027,\n",
       "  6.274043560028076,\n",
       "  5.659497261047363,\n",
       "  4.877234935760498,\n",
       "  4.230865478515625],\n",
       " 'dc_monthly': [497.9421081542969,\n",
       "  511.1524963378906,\n",
       "  634.3223266601562,\n",
       "  623.7313842773438,\n",
       "  617.8812866210938,\n",
       "  615.4278564453125,\n",
       "  609.3965454101562,\n",
       "  612.7506713867188,\n",
       "  610.5584106445312,\n",
       "  588.6157836914062,\n",
       "  508.0747680664062,\n",
       "  465.4272155761719],\n",
       " 'ac_annual': 6575.31884765625,\n",
       " 'solrad_annual': 5.618043899536133,\n",
       " 'capacity_factor': 18.76517868041992}"
      ]
     },
     "execution_count": null,
     "metadata": {},
     "output_type": "execute_result"
    }
   ],
   "source": [
    "#hide_output\n",
    "pvwatts_v6.outputs"
   ]
  },
  {
   "cell_type": "markdown",
   "metadata": {},
   "source": [
    "Station info for the specified latitude/longitude"
   ]
  },
  {
   "cell_type": "code",
   "execution_count": null,
   "metadata": {},
   "outputs": [
    {
     "data": {
      "text/plain": [
       "{'lat': 40.0099983215332,\n",
       " 'lon': -105.0199966430664,\n",
       " 'elev': 1581.839965820312,\n",
       " 'tz': -7.0,\n",
       " 'location': 'None',\n",
       " 'city': '',\n",
       " 'state': 'Colorado',\n",
       " 'solar_resource_file': 'W10502N4001.csv',\n",
       " 'distance': 2029}"
      ]
     },
     "execution_count": null,
     "metadata": {},
     "output_type": "execute_result"
    }
   ],
   "source": [
    "pvwatts_v6.station_info"
   ]
  },
  {
   "cell_type": "markdown",
   "metadata": {},
   "source": [
    "Complete response with inputs, outputs, errors, version, etc."
   ]
  },
  {
   "cell_type": "code",
   "execution_count": null,
   "metadata": {},
   "outputs": [
    {
     "data": {
      "text/plain": [
       "{'inputs': {'system_capacity': '4',\n",
       "  'module_type': '1',\n",
       "  'losses': '10',\n",
       "  'array_type': '1',\n",
       "  'tilt': '40',\n",
       "  'azimuth': '180',\n",
       "  'lat': '40',\n",
       "  'lon': '-105',\n",
       "  'dataset': 'nsrdb',\n",
       "  'radius': '100',\n",
       "  'timeframe': 'monthly',\n",
       "  'dc_ac_ratio': '1.2',\n",
       "  'gcr': '0.4',\n",
       "  'inv_eff': '96'},\n",
       " 'errors': [],\n",
       " 'warnings': [],\n",
       " 'version': '1.0.2',\n",
       " 'ssc_info': {'version': 45,\n",
       "  'build': 'Linux 64 bit GNU/C++ Jul  7 2015 14:24:09'},\n",
       " 'station_info': {'lat': 40.0099983215332,\n",
       "  'lon': -105.0199966430664,\n",
       "  'elev': 1581.839965820312,\n",
       "  'tz': -7.0,\n",
       "  'location': 'None',\n",
       "  'city': '',\n",
       "  'state': 'Colorado',\n",
       "  'solar_resource_file': 'W10502N4001.csv',\n",
       "  'distance': 2029},\n",
       " 'outputs': {'ac_monthly': [474.4326171875,\n",
       "   484.3903503417969,\n",
       "   595.7704467773438,\n",
       "   592.0599365234375,\n",
       "   591.2662353515625,\n",
       "   589.3538208007812,\n",
       "   583.2352905273438,\n",
       "   586.4593505859375,\n",
       "   584.8131713867188,\n",
       "   561.72314453125,\n",
       "   486.1260375976562,\n",
       "   445.6881713867188],\n",
       "  'poa_monthly': [141.4809417724609,\n",
       "   145.5711975097656,\n",
       "   184.7876434326172,\n",
       "   181.5513763427734,\n",
       "   186.4280853271484,\n",
       "   190.5132904052734,\n",
       "   188.7499694824219,\n",
       "   190.5398101806641,\n",
       "   188.2213134765625,\n",
       "   175.4444122314453,\n",
       "   146.3170471191406,\n",
       "   131.1568298339844],\n",
       "  'solrad_monthly': [4.563901424407959,\n",
       "   5.198971271514893,\n",
       "   5.960891723632812,\n",
       "   6.051712512969971,\n",
       "   6.013809204101562,\n",
       "   6.350442886352539,\n",
       "   6.088708877563477,\n",
       "   6.146445274353027,\n",
       "   6.274043560028076,\n",
       "   5.659497261047363,\n",
       "   4.877234935760498,\n",
       "   4.230865478515625],\n",
       "  'dc_monthly': [497.9421081542969,\n",
       "   511.1524963378906,\n",
       "   634.3223266601562,\n",
       "   623.7313842773438,\n",
       "   617.8812866210938,\n",
       "   615.4278564453125,\n",
       "   609.3965454101562,\n",
       "   612.7506713867188,\n",
       "   610.5584106445312,\n",
       "   588.6157836914062,\n",
       "   508.0747680664062,\n",
       "   465.4272155761719],\n",
       "  'ac_annual': 6575.31884765625,\n",
       "  'solrad_annual': 5.618043899536133,\n",
       "  'capacity_factor': 18.76517868041992}}"
      ]
     },
     "execution_count": null,
     "metadata": {},
     "output_type": "execute_result"
    }
   ],
   "source": [
    "#hide_output\n",
    "pvwatts_v6.response"
   ]
  },
  {
   "cell_type": "code",
   "execution_count": null,
   "metadata": {},
   "outputs": [],
   "source": []
  }
 ],
 "metadata": {
  "kernelspec": {
   "display_name": "Python [conda env:nrel-dev-api]",
   "language": "python",
   "name": "conda-env-nrel-dev-api-py"
  }
 },
 "nbformat": 4,
 "nbformat_minor": 4
}
